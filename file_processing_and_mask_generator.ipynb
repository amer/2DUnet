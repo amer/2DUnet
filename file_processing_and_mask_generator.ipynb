{
 "cells": [
  {
   "cell_type": "code",
   "execution_count": 50,
   "metadata": {
    "ExecuteTime": {
     "end_time": "2018-06-12T15:48:44.744568Z",
     "start_time": "2018-06-12T15:48:44.737604Z"
    }
   },
   "outputs": [],
   "source": [
    "import os\n",
    "import sys\n",
    "import glob\n",
    "import re\n",
    "import glob\n",
    "from pathlib import Path\n",
    "\n",
    "import pandas as pd\n",
    "import numpy as np"
   ]
  },
  {
   "cell_type": "code",
   "execution_count": 51,
   "metadata": {
    "ExecuteTime": {
     "end_time": "2018-06-12T15:48:44.938445Z",
     "start_time": "2018-06-12T15:48:44.934147Z"
    }
   },
   "outputs": [],
   "source": [
    "home = str(Path.home())\n",
    "data_dir = f\"{home}/data/aneurysm/\""
   ]
  },
  {
   "cell_type": "code",
   "execution_count": 52,
   "metadata": {
    "ExecuteTime": {
     "end_time": "2018-06-12T15:48:45.122140Z",
     "start_time": "2018-06-12T15:48:45.117808Z"
    }
   },
   "outputs": [],
   "source": [
    "stl_path = f\"{home}/data/aneurysm/stls.ours/\"\n",
    "dicom_path = f\"{home}/data/aneurysm/512Auto.ours/\"\n",
    "mask_path = f\"{home}/data/aneurysm/512Auto.ours.masks/\""
   ]
  },
  {
   "cell_type": "code",
   "execution_count": 53,
   "metadata": {
    "ExecuteTime": {
     "end_time": "2018-06-12T15:48:45.289855Z",
     "start_time": "2018-06-12T15:48:45.285794Z"
    }
   },
   "outputs": [],
   "source": [
    "#os.mkdir(mask_path) # Make the output directory"
   ]
  },
  {
   "cell_type": "code",
   "execution_count": 54,
   "metadata": {
    "ExecuteTime": {
     "end_time": "2018-06-12T15:48:45.457993Z",
     "start_time": "2018-06-12T15:48:45.452590Z"
    }
   },
   "outputs": [],
   "source": [
    "def get_files(regex,path):\n",
    "    files = np.array(os.listdir(path))\n",
    "    r = re.compile(regex)\n",
    "\n",
    "    vmatch = np.vectorize(lambda x: x if bool(r.match(x)) else None)\n",
    "    files = vmatch(files) # Match\n",
    "    files = pd.Series(files)\n",
    "    \n",
    "    return files.dropna().values # Remove Nones and return values"
   ]
  },
  {
   "cell_type": "code",
   "execution_count": 55,
   "metadata": {
    "ExecuteTime": {
     "end_time": "2018-06-12T15:48:45.633708Z",
     "start_time": "2018-06-12T15:48:45.624346Z"
    }
   },
   "outputs": [],
   "source": [
    "stls = get_files(\"^((?!_).)*\\.stl$\",stl_path) # Regex to match all files that do not contain underscore \n",
    "dicoms = get_files(\"^((?!_).)*\\.dcm$\",dicom_path)"
   ]
  },
  {
   "cell_type": "code",
   "execution_count": 56,
   "metadata": {
    "ExecuteTime": {
     "end_time": "2018-06-12T15:48:45.814244Z",
     "start_time": "2018-06-12T15:48:45.807441Z"
    }
   },
   "outputs": [
    {
     "data": {
      "text/plain": [
       "'Dicom files: 4, stls: 4'"
      ]
     },
     "execution_count": 56,
     "metadata": {},
     "output_type": "execute_result"
    }
   ],
   "source": [
    "f'Dicom files: %s, stls: %s' % (len(dicoms),len(stls))"
   ]
  },
  {
   "cell_type": "code",
   "execution_count": 57,
   "metadata": {
    "ExecuteTime": {
     "end_time": "2018-06-12T15:48:46.025745Z",
     "start_time": "2018-06-12T15:48:46.021429Z"
    }
   },
   "outputs": [],
   "source": [
    "r = re.compile(\"^A((?!_).)*\\.stl\")"
   ]
  },
  {
   "cell_type": "code",
   "execution_count": 58,
   "metadata": {
    "ExecuteTime": {
     "end_time": "2018-06-12T15:48:46.279002Z",
     "start_time": "2018-06-12T15:48:46.270468Z"
    }
   },
   "outputs": [
    {
     "data": {
      "text/plain": [
       "array([], shape=(0, 2), dtype=float64)"
      ]
     },
     "execution_count": 58,
     "metadata": {},
     "output_type": "execute_result"
    }
   ],
   "source": [
    "new_old_names = np.empty((0,2))\n",
    "for old_name in stls:\n",
    "    if len(old_name) == 7 and r.match(old_name):\n",
    "        new_old_name = f'A0%s' % old_name[1:]\n",
    "        new_old_names = np.vstack((new_names,(new_name,old_name)))\n",
    "new_old_names"
   ]
  },
  {
   "cell_type": "code",
   "execution_count": 59,
   "metadata": {
    "ExecuteTime": {
     "end_time": "2018-06-12T15:48:46.948536Z",
     "start_time": "2018-06-12T15:48:46.943234Z"
    }
   },
   "outputs": [
    {
     "name": "stdout",
     "output_type": "stream",
     "text": [
      "cwd: /home/amer/Desktop/CodeSync/aneurysm/stls.ours\n"
     ]
    }
   ],
   "source": [
    "os.chdir(stl_path)\n",
    "print(f'cwd: %s' % os.getcwd())"
   ]
  },
  {
   "cell_type": "code",
   "execution_count": 60,
   "metadata": {
    "ExecuteTime": {
     "end_time": "2018-06-12T15:48:47.756465Z",
     "start_time": "2018-06-12T15:48:47.752000Z"
    }
   },
   "outputs": [],
   "source": [
    "# Rename stl files to follow the same naming convention as Dicoms files\n",
    "# No need to run it again\n",
    "\n",
    "#for new,old in new_old_names:\n",
    "    #print(os.path.isfile(stl_path+old))\n",
    "    #print(stl_path+old)\n",
    "    #print(f'Renamed \"%s\" to %s' % (old,new))\n",
    "    #os.rename(old,new)"
   ]
  },
  {
   "cell_type": "code",
   "execution_count": 61,
   "metadata": {
    "ExecuteTime": {
     "end_time": "2018-06-12T15:48:48.014413Z",
     "start_time": "2018-06-12T15:48:48.006628Z"
    }
   },
   "outputs": [],
   "source": [
    "dicom_bases = np.array([])\n",
    "stl_bases = np.array([])\n",
    "\n",
    "for dicom, stl in zip(dicoms,stls):\n",
    "    dicom_bases = np.append(dicom_bases, os.path.splitext(dicom)[0])\n",
    "    stl_bases = np.append(stl_bases, os.path.splitext(stl)[0])"
   ]
  },
  {
   "cell_type": "code",
   "execution_count": 62,
   "metadata": {
    "ExecuteTime": {
     "end_time": "2018-06-12T15:48:48.861863Z",
     "start_time": "2018-06-12T15:48:48.854829Z"
    }
   },
   "outputs": [
    {
     "data": {
      "text/plain": [
       "array(['A012', 'A013', 'A015', 'A016'], dtype='<U32')"
      ]
     },
     "execution_count": 62,
     "metadata": {},
     "output_type": "execute_result"
    }
   ],
   "source": [
    "useful_files = np.intersect1d(dicom_bases,stl_bases)\n",
    "useful_files"
   ]
  },
  {
   "cell_type": "code",
   "execution_count": null,
   "metadata": {
    "ExecuteTime": {
     "end_time": "2018-06-12T15:38:14.890105Z",
     "start_time": "2018-06-12T15:38:14.883055Z"
    }
   },
   "outputs": [],
   "source": []
  },
  {
   "cell_type": "code",
   "execution_count": 63,
   "metadata": {
    "ExecuteTime": {
     "end_time": "2018-06-12T15:48:50.935616Z",
     "start_time": "2018-06-12T15:48:50.815995Z"
    }
   },
   "outputs": [
    {
     "name": "stdout",
     "output_type": "stream",
     "text": [
      "A012.dcm  A013.dcm  A015.dcm  A016.dcm\r\n"
     ]
    }
   ],
   "source": [
    "!ls {dicom_path}"
   ]
  },
  {
   "cell_type": "code",
   "execution_count": 64,
   "metadata": {
    "ExecuteTime": {
     "end_time": "2018-06-12T15:48:52.198964Z",
     "start_time": "2018-06-12T15:48:52.191465Z"
    }
   },
   "outputs": [
    {
     "data": {
      "text/plain": [
       "'/home/amer/data/aneurysm/512Auto.ours/A016.dcm'"
      ]
     },
     "execution_count": 64,
     "metadata": {},
     "output_type": "execute_result"
    }
   ],
   "source": [
    "dicoms = glob.glob(f'{dicom_path}/*.dcm')\n",
    "dicoms[0]"
   ]
  },
  {
   "cell_type": "code",
   "execution_count": 68,
   "metadata": {
    "ExecuteTime": {
     "end_time": "2018-06-12T15:49:46.354647Z",
     "start_time": "2018-06-12T15:49:46.345701Z"
    }
   },
   "outputs": [
    {
     "name": "stdout",
     "output_type": "stream",
     "text": [
      "A016.dcm\n",
      "A015.dcm\n",
      "A012.dcm\n",
      "A013.dcm\n"
     ]
    }
   ],
   "source": [
    "dcms = []\n",
    "for d in dicoms:\n",
    "    d1 = d.replace(f\"{home}/data/aneurysm/512Auto.ours/\",\"\")\n",
    "    print(d1)\n",
    "    d2 = d1.replace(\".dcm\",\"\")\n",
    "    dcms.append(d2)\n",
    "\n",
    "dcms = np.array(dcm)"
   ]
  },
  {
   "cell_type": "code",
   "execution_count": 71,
   "metadata": {
    "ExecuteTime": {
     "end_time": "2018-06-12T15:50:01.211403Z",
     "start_time": "2018-06-12T15:50:01.206471Z"
    },
    "scrolled": true
   },
   "outputs": [],
   "source": [
    "# Generate the bash script to remove dcm files in \"512Auto.ours\" directory \n",
    "# with no corresponding masks at in \"512Auto.ours.masks\" directory\n",
    "for f in np.setdiff1d(dcms,masks):\n",
    "    print(f'rm -f {f}.dcm')"
   ]
  },
  {
   "cell_type": "code",
   "execution_count": 72,
   "metadata": {
    "ExecuteTime": {
     "end_time": "2018-06-12T15:50:02.476584Z",
     "start_time": "2018-06-12T15:50:02.469150Z"
    }
   },
   "outputs": [
    {
     "data": {
      "text/plain": [
       "4"
      ]
     },
     "execution_count": 72,
     "metadata": {},
     "output_type": "execute_result"
    }
   ],
   "source": [
    "len(useful_files)"
   ]
  },
  {
   "cell_type": "code",
   "execution_count": 73,
   "metadata": {
    "ExecuteTime": {
     "end_time": "2018-06-12T15:50:57.806431Z",
     "start_time": "2018-06-12T15:50:57.791399Z"
    },
    "scrolled": false
   },
   "outputs": [
    {
     "name": "stdout",
     "output_type": "stream",
     "text": [
      "ctx.field(\"WEMLoad1.filename\").value = \"/home/amer/data/aneurysm/stls.ours/A012.stl\"\n",
      "ctx.field(\"dicom.filename\").value = \"/home/amer/data/aneurysm/512Auto.ours/A012.dcm\"\n",
      "ctx.field(\"VoxelizeInventorScene.apply\").touch()\n",
      "ctx.field(\"ImageSave.filename\").value = \"/home/amer/data/aneurysm/512Auto.ours.masks/A012.mask.dcm\"\n",
      "ctx.field(\"ImageSave.save\").touch()\n",
      "\n",
      "ctx.field(\"WEMLoad1.filename\").value = \"/home/amer/data/aneurysm/stls.ours/A013.stl\"\n",
      "ctx.field(\"dicom.filename\").value = \"/home/amer/data/aneurysm/512Auto.ours/A013.dcm\"\n",
      "ctx.field(\"VoxelizeInventorScene.apply\").touch()\n",
      "ctx.field(\"ImageSave.filename\").value = \"/home/amer/data/aneurysm/512Auto.ours.masks/A013.mask.dcm\"\n",
      "ctx.field(\"ImageSave.save\").touch()\n",
      "\n",
      "ctx.field(\"WEMLoad1.filename\").value = \"/home/amer/data/aneurysm/stls.ours/A015.stl\"\n",
      "ctx.field(\"dicom.filename\").value = \"/home/amer/data/aneurysm/512Auto.ours/A015.dcm\"\n",
      "ctx.field(\"VoxelizeInventorScene.apply\").touch()\n",
      "ctx.field(\"ImageSave.filename\").value = \"/home/amer/data/aneurysm/512Auto.ours.masks/A015.mask.dcm\"\n",
      "ctx.field(\"ImageSave.save\").touch()\n",
      "\n",
      "ctx.field(\"WEMLoad1.filename\").value = \"/home/amer/data/aneurysm/stls.ours/A016.stl\"\n",
      "ctx.field(\"dicom.filename\").value = \"/home/amer/data/aneurysm/512Auto.ours/A016.dcm\"\n",
      "ctx.field(\"VoxelizeInventorScene.apply\").touch()\n",
      "ctx.field(\"ImageSave.filename\").value = \"/home/amer/data/aneurysm/512Auto.ours.masks/A016.mask.dcm\"\n",
      "ctx.field(\"ImageSave.save\").touch()\n",
      "\n"
     ]
    }
   ],
   "source": [
    "# Generate python code to run in MyVisLab to generate masks\n",
    "for file_name in useful_files:\n",
    "    print(f'ctx.field(\"WEMLoad1.filename\").value = \"{stl_path}{file_name}.stl\"')\n",
    "    print(f'ctx.field(\"dicom.filename\").value = \"{dicom_path}{file_name}.dcm\"')\n",
    "    print(f'ctx.field(\"VoxelizeInventorScene.apply\").touch()')\n",
    "    print(f'ctx.field(\"ImageSave.filename\").value = \"{output_path}{file_name}.mask.dcm\"')\n",
    "    print(f'ctx.field(\"ImageSave.save\").touch()')\n",
    "    print()"
   ]
  },
  {
   "cell_type": "code",
   "execution_count": null,
   "metadata": {},
   "outputs": [],
   "source": []
  }
 ],
 "metadata": {
  "kernelspec": {
   "display_name": "fast",
   "language": "python",
   "name": "fast"
  },
  "language_info": {
   "codemirror_mode": {
    "name": "ipython",
    "version": 3
   },
   "file_extension": ".py",
   "mimetype": "text/x-python",
   "name": "python",
   "nbconvert_exporter": "python",
   "pygments_lexer": "ipython3",
   "version": "3.6.5"
  }
 },
 "nbformat": 4,
 "nbformat_minor": 2
}
