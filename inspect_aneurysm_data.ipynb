{
 "cells": [
  {
   "cell_type": "code",
   "execution_count": 91,
   "metadata": {
    "ExecuteTime": {
     "end_time": "2018-06-13T12:15:13.279251Z",
     "start_time": "2018-06-13T12:15:13.263576Z"
    }
   },
   "outputs": [],
   "source": [
    "import os\n",
    "import sys\n",
    "import glob\n",
    "import re\n",
    "from pathlib import Path\n",
    "\n",
    "import numpy as np\n",
    "import pandas as pd\n",
    "\n",
    "from sklearn.preprocessing import MinMaxScaler\n",
    "\n",
    "import matplotlib\n",
    "import matplotlib.pyplot as plt\n",
    "import matplotlib.style\n",
    "import matplotlib as mpl\n",
    "mpl.style.use('classic')\n",
    "\n",
    "import pydicom as dcm\n",
    "import pylab\n",
    "\n",
    "from __future__ import print_function\n",
    "from ipywidgets import interact, interactive, fixed, interact_manual, Layout\n",
    "import ipywidgets as widgets\n",
    "layout=Layout(width='90%')\n",
    "\n",
    "# # Root directory of the project\n",
    "# ROOT_DIR = os.path.abspath(\"../Mask_RCNN/\")\n",
    "\n",
    "# # Import Mask RCNN\n",
    "# sys.path.append(ROOT_DIR)  # To find local version of the library\n",
    "# from mrcnn import utils\n",
    "# from mrcnn import visualize\n",
    "# from mrcnn.visualize import display_images\n",
    "# import mrcnn.model as modellib\n",
    "# from mrcnn.model import log\n",
    "\n",
    "# See https://stackoverflow.com/questions/14722540/smoothing-between-pixels-of-imagesc-imshow-in-matlab-like-the-matplotlib-imshow\n",
    "mpl.rcParams['image.interpolation'] = 'none' # default 'bilinear'\n"
   ]
  },
  {
   "cell_type": "code",
   "execution_count": 92,
   "metadata": {
    "ExecuteTime": {
     "end_time": "2018-06-13T12:15:13.450285Z",
     "start_time": "2018-06-13T12:15:13.442732Z"
    }
   },
   "outputs": [],
   "source": [
    "home = str(Path.home())\n",
    "data_dir = f\"{home}/data/aneurysm/\"\n",
    "mask_dir = f\"{home}/data/aneurysm/512Auto.ours.masks/\"\n",
    "stl_dir = f\"{home}/data/aneurysm/stls.ours/\"\n",
    "dcm_dir = f\"{home}/data/aneurysm/512Auto.ours/\"\n",
    "pngs_dir = f\"{home}/data/aneurysm/512Auto.pngs/\"\n",
    "masks_pngs_dir = f\"{home}/data/aneurysm/512Auto.masks.pngs/\"\n",
    "\n",
    "dirs = [data_dir,mask_dir,stl_dir,dcm_dir,pngs_dir,masks_pngs_dir]"
   ]
  },
  {
   "cell_type": "code",
   "execution_count": 93,
   "metadata": {
    "ExecuteTime": {
     "end_time": "2018-06-13T12:15:14.077493Z",
     "start_time": "2018-06-13T12:15:13.617440Z"
    },
    "scrolled": true
   },
   "outputs": [
    {
     "name": "stdout",
     "output_type": "stream",
     "text": [
      "\u001b[01;34m/home/amer/data/aneurysm/\u001b[00m [7 entries exceeds filelimit, not opening dir]\n",
      "\n",
      "0 directories, 0 files\n",
      "/home/amer/Code/ML_for_Medical_Image_Processing\n"
     ]
    }
   ],
   "source": [
    "# for d in dirs:\n",
    "#      !mkdir -p {d}\n",
    "!tree --filelimit=5 {data_dir}\n",
    "!pwd"
   ]
  },
  {
   "cell_type": "code",
   "execution_count": 94,
   "metadata": {
    "ExecuteTime": {
     "end_time": "2018-06-13T12:15:14.087987Z",
     "start_time": "2018-06-13T12:15:14.081259Z"
    }
   },
   "outputs": [],
   "source": [
    "reg_complete_filename = re.compile(\"[^/]*$\") # Match a file name in a path\n",
    "reg_filename = re.compile(\"^([^.]+)\") # Match a file name in a path\n",
    "\n",
    "def get_filename(paths,num):\n",
    "    complete_filename = re.search(reg_complete_filename, paths[num]).group(0)\n",
    "    return re.search(reg_filename, complete_filename).group(0)\n",
    "    \n",
    "def get_dicoms_paths(source_dir):\n",
    "    return sorted(glob.glob(f\"{source_dir}*.dcm\"))"
   ]
  },
  {
   "cell_type": "code",
   "execution_count": 95,
   "metadata": {
    "ExecuteTime": {
     "end_time": "2018-06-13T12:15:14.102384Z",
     "start_time": "2018-06-13T12:15:14.091141Z"
    }
   },
   "outputs": [],
   "source": [
    "def get_pngs(dicoms_paths,dcm_num):\n",
    "    ds = dcm.read_file(dicoms_paths[dcm_num]) # get the dicom file #dcm_num\n",
    "    return ds.pixel_array\n",
    "\n",
    "# Shows one image\n",
    "def browse_dicom(source_dir,dicom_num):\n",
    "    dicoms_paths = get_dicoms_paths(source_dir)\n",
    "    pngs = get_pngs(dicoms_paths,dicom_num)\n",
    "    last = len(pngs)-1\n",
    "    print(dicoms_paths[dicom_num])\n",
    "    def show_png(num):\n",
    "        pylab.imshow(pngs[num],cmap=pylab.cm.bone)\n",
    "    interact(show_png, num=widgets.IntSlider(min=0,max=last,step=1,layout=layout));\n",
    "\n",
    "# Shows original and mask side by side\n",
    "def browse_dicom_and_mask(original_dir,mask_dir,dicom_num):\n",
    "    original_paths = get_dicoms_paths(original_dir)\n",
    "    mask_paths = get_dicoms_paths(mask_dir)\n",
    "    \n",
    "    original_pngs = get_pngs(original_paths,dicom_num)\n",
    "    mask_pngs = get_pngs(mask_paths,dicom_num)\n",
    "    \n",
    "    last = len(original_pngs)-1\n",
    "    print(original_paths[dicom_num])\n",
    "    print(mask_paths[dicom_num])\n",
    "    def show_png(num):\n",
    "        f = plt.figure(figsize=(20,10))\n",
    "        f.add_subplot(1,2, 1)\n",
    "        pylab.imshow(original_pngs[num],cmap=pylab.cm.bone)\n",
    "        f.add_subplot(1,2, 2)\n",
    "        pylab.imshow(mask_pngs[num],cmap=pylab.cm.bone)\n",
    "        plt.show(block=True)\n",
    "    interact(show_png, num=widgets.IntSlider(min=0,max=last,step=1,layout=layout))"
   ]
  },
  {
   "cell_type": "code",
   "execution_count": 96,
   "metadata": {
    "ExecuteTime": {
     "end_time": "2018-06-13T12:15:15.032689Z",
     "start_time": "2018-06-13T12:15:14.121461Z"
    }
   },
   "outputs": [
    {
     "name": "stdout",
     "output_type": "stream",
     "text": [
      "/home/amer/data/aneurysm/512Auto.ours/A013.dcm\n",
      "/home/amer/data/aneurysm/512Auto.ours.masks/A013.mask.dcm\n"
     ]
    },
    {
     "data": {
      "application/vnd.jupyter.widget-view+json": {
       "model_id": "f63e0749cf19429e9ab9cf7903275553",
       "version_major": 2,
       "version_minor": 0
      },
      "text/plain": [
       "interactive(children=(IntSlider(value=0, description='num', layout=Layout(width='90%'), max=438), Output()), _…"
      ]
     },
     "metadata": {},
     "output_type": "display_data"
    }
   ],
   "source": [
    "browse_dicom_and_mask(dcm_dir,mask_dir,1)"
   ]
  },
  {
   "cell_type": "code",
   "execution_count": 97,
   "metadata": {
    "ExecuteTime": {
     "end_time": "2018-06-13T12:15:15.035263Z",
     "start_time": "2018-06-13T12:15:15.033707Z"
    }
   },
   "outputs": [],
   "source": [
    "#browse_dicom(dcm_dir,1) # Show me the MRI Dicom file #2\n",
    "#browse_dicom(mask_dir,1) # Show me the Mask Dicom file #2"
   ]
  },
  {
   "cell_type": "code",
   "execution_count": 98,
   "metadata": {
    "ExecuteTime": {
     "end_time": "2018-06-13T12:15:15.047411Z",
     "start_time": "2018-06-13T12:15:15.036120Z"
    }
   },
   "outputs": [],
   "source": [
    "def save_dicom_to_pngs(source_dir,target_dir,dicom_num):\n",
    "    paths = get_dicoms_paths(source_dir)\n",
    "    dicom_file_name = get_filename(paths,dicom_num)\n",
    "    pngs = get_pngs(paths,dicom_num)\n",
    "    slice_count = len(pngs)-1\n",
    "    for i in range(dicom_num,slice_count):\n",
    "        pylab.imsave(f\"{target_dir}{dicom_file_name}_{i}\",pngs[i],cmap=pylab.cm.bone)\n",
    "    return slice_count+1"
   ]
  },
  {
   "cell_type": "code",
   "execution_count": 99,
   "metadata": {
    "ExecuteTime": {
     "end_time": "2018-06-13T12:15:15.055027Z",
     "start_time": "2018-06-13T12:15:15.048555Z"
    }
   },
   "outputs": [],
   "source": [
    "def breakup_dicom(source_dir,target_dir): # Dicom to pngs\n",
    "    dicom_paths = get_dicoms_paths(source_dir) # Get dicoms files\n",
    "    file_count = len(dicom_paths) # Count dicom files\n",
    "    for i in range(0,file_count):\n",
    "        print(f\"Breaking up {get_filename(dicom_paths,i)} into pngs...\")\n",
    "        slice_num = save_dicom_to_pngs(source_dir,target_dir,i)\n",
    "        print(f\"Finished {get_filename(dicom_paths,i)}! {slice_num} slices were saved.\\n\")\n",
    "    print(f\"PNGs are in {pngs_dir}\")"
   ]
  },
  {
   "cell_type": "code",
   "execution_count": 100,
   "metadata": {
    "ExecuteTime": {
     "end_time": "2018-06-13T12:15:15.284618Z",
     "start_time": "2018-06-13T12:15:15.280432Z"
    }
   },
   "outputs": [],
   "source": [
    "#breakup_dicom(dcm_dir,pngs_dir)"
   ]
  },
  {
   "cell_type": "code",
   "execution_count": 101,
   "metadata": {
    "ExecuteTime": {
     "end_time": "2018-06-13T12:15:16.183477Z",
     "start_time": "2018-06-13T12:15:16.178030Z"
    }
   },
   "outputs": [],
   "source": [
    "#breakup_dicom(mask_dir,masks_pngs_dir)"
   ]
  },
  {
   "cell_type": "code",
   "execution_count": 102,
   "metadata": {
    "ExecuteTime": {
     "end_time": "2018-06-13T12:15:19.249142Z",
     "start_time": "2018-06-13T12:15:19.241216Z"
    }
   },
   "outputs": [],
   "source": [
    "# return the dicom file as a numpy array\n",
    "# @num is the index of the file in \"dcm_dir\" directory\n",
    "def dicom_as_tensor(index):\n",
    "    return get_pngs(get_dicoms_paths(dcm_dir),index)"
   ]
  },
  {
   "cell_type": "code",
   "execution_count": 103,
   "metadata": {
    "ExecuteTime": {
     "end_time": "2018-06-13T12:15:19.440793Z",
     "start_time": "2018-06-13T12:15:19.432015Z"
    }
   },
   "outputs": [],
   "source": [
    "def show_scaled_dicom(source_dir,dcm_index):\n",
    "    dicoms_paths = get_dicoms_paths(source_dir)\n",
    "    dcm = get_pngs(dicoms_paths,dcm_index)\n",
    "    last = last = len(dcm)-1\n",
    "    print(last)\n",
    "    def show_img(num):\n",
    "        _slice = dcm[num]\n",
    "        scaler = MinMaxScaler(feature_range=(0, 1))\n",
    "        scaler.fit(_slice)\n",
    "        scaled = scaler.transform(_slice)\n",
    "        plt.figure(figsize=(8,8))\n",
    "        pylab.imshow(scaled,cmap=pylab.cm.bone)\n",
    "    interact(show_img, num=widgets.IntSlider(min=0,max=last,step=1,layout=layout));"
   ]
  },
  {
   "cell_type": "code",
   "execution_count": 110,
   "metadata": {
    "ExecuteTime": {
     "end_time": "2018-06-13T12:16:18.446969Z",
     "start_time": "2018-06-13T12:16:17.947957Z"
    }
   },
   "outputs": [
    {
     "name": "stdout",
     "output_type": "stream",
     "text": [
      "438\n"
     ]
    },
    {
     "data": {
      "application/vnd.jupyter.widget-view+json": {
       "model_id": "23885279b6a74c2bb1209858a71fbc52",
       "version_major": 2,
       "version_minor": 0
      },
      "text/plain": [
       "interactive(children=(IntSlider(value=0, description='num', layout=Layout(width='90%'), max=438), Output()), _…"
      ]
     },
     "metadata": {},
     "output_type": "display_data"
    }
   ],
   "source": [
    "show_scaled_dicom(dcm_dir,3)"
   ]
  },
  {
   "cell_type": "code",
   "execution_count": 125,
   "metadata": {
    "ExecuteTime": {
     "end_time": "2018-06-13T12:32:33.635293Z",
     "start_time": "2018-06-13T12:32:33.398513Z"
    }
   },
   "outputs": [
    {
     "name": "stdout",
     "output_type": "stream",
     "text": [
      "(512, 512)\n",
      "[[-373 -446 -278 ... -538 -407 -438]\n",
      " [-523 -401 -404 ... -398 -433 -370]\n",
      " [-579 -497 -444 ... -303 -379 -369]\n",
      " ...\n",
      " [-492 -560 -523 ... -618 -599 -344]\n",
      " [-500 -398 -223 ... -574 -486 -128]\n",
      " [-346 -272 -270 ... -328 -253  -51]]\n"
     ]
    }
   ],
   "source": [
    "tensor = dicom_as_tensor(3)[0]\n",
    "# print(np.shape(tensor))\n",
    "# w = 200 # window1\n",
    "# m = 1 # stried\n",
    "print(np.shape(tensor))\n",
    "print(tensor[m:m+w,m:m+w])\n",
    "# plt.figure(figsize=(8,8))\n",
    "# pylab.imshow(tensor,cmap=pylab.cm.bone)"
   ]
  },
  {
   "cell_type": "code",
   "execution_count": 188,
   "metadata": {
    "ExecuteTime": {
     "end_time": "2018-06-13T13:22:21.195667Z",
     "start_time": "2018-06-13T13:22:21.044755Z"
    }
   },
   "outputs": [
    {
     "data": {
      "application/vnd.jupyter.widget-view+json": {
       "model_id": "2a4d03be6555467e8b4baf60510efc5e",
       "version_major": 2,
       "version_minor": 0
      },
      "text/plain": [
       "interactive(children=(IntSlider(value=10, description='x', layout=Layout(width='90%'), max=512, min=10), IntSl…"
      ]
     },
     "metadata": {},
     "output_type": "display_data"
    }
   ],
   "source": [
    "# Sliding window\n",
    "def tensor_window(tensor):\n",
    "    height = np.shape(tensor)[0]\n",
    "    width = np.shape(tensor)[1]\n",
    "    def move_window(x,y,w):\n",
    "        print(np.shape(tensor))\n",
    "        print(f'[x-w:x,y-w:y]: [{max([x-w,0])}:{x},{max([y-w,0])}:{y}]')\n",
    "        wx = max([x-w,0])\n",
    "        wy = max([y-w,0])\n",
    "        print(f'Window= {w}x{w}')\n",
    "        t = tensor[wx:x,wy:y]\n",
    "        pylab.imshow(t,cmap=pylab.cm.bone)\n",
    "    s = 1 # stried\n",
    "    interact(move_window,\n",
    "             x=widgets.IntSlider(min=10,max=height,step=s,layout=layout),\n",
    "             y=widgets.IntSlider(min=10,max=width,step=s,layout=layout),\n",
    "             w=widgets.IntSlider(min=20,max=512,step=1,layout=layout),)\n",
    "tensor_window(tensor)"
   ]
  },
  {
   "cell_type": "code",
   "execution_count": 17,
   "metadata": {
    "ExecuteTime": {
     "end_time": "2018-06-13T11:04:44.047579Z",
     "start_time": "2018-06-13T11:04:44.044406Z"
    }
   },
   "outputs": [],
   "source": [
    "# فكرة جمع طبقات الصور لزادة احتمال"
   ]
  },
  {
   "cell_type": "code",
   "execution_count": null,
   "metadata": {},
   "outputs": [],
   "source": []
  }
 ],
 "metadata": {
  "kernelspec": {
   "display_name": "fast",
   "language": "python",
   "name": "fast"
  },
  "language_info": {
   "codemirror_mode": {
    "name": "ipython",
    "version": 3
   },
   "file_extension": ".py",
   "mimetype": "text/x-python",
   "name": "python",
   "nbconvert_exporter": "python",
   "pygments_lexer": "ipython3",
   "version": "3.6.5"
  }
 },
 "nbformat": 4,
 "nbformat_minor": 2
}
