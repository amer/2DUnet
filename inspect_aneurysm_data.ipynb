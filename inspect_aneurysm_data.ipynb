{
 "cells": [
  {
   "cell_type": "code",
   "execution_count": 3,
   "metadata": {
    "ExecuteTime": {
     "end_time": "2018-06-12T14:56:43.301110Z",
     "start_time": "2018-06-12T14:56:40.899873Z"
    }
   },
   "outputs": [
    {
     "name": "stderr",
     "output_type": "stream",
     "text": [
      "Using TensorFlow backend.\n"
     ]
    }
   ],
   "source": [
    "import os\n",
    "import sys\n",
    "import glob\n",
    "import re\n",
    "from pathlib import Path\n",
    "\n",
    "import numpy as np\n",
    "import pandas as pd\n",
    "\n",
    "import matplotlib\n",
    "import matplotlib.pyplot as plt\n",
    "\n",
    "import pydicom as dcm\n",
    "\n",
    "import pylab\n",
    "\n",
    "from __future__ import print_function\n",
    "from ipywidgets import interact, interactive, fixed, interact_manual, Layout\n",
    "import ipywidgets as widgets\n",
    "layout=Layout(width='90%')\n",
    "\n",
    "\n",
    "# Root directory of the project\n",
    "ROOT_DIR = os.path.abspath(\"../Mask_RCNN/\")\n",
    "\n",
    "# Import Mask RCNN\n",
    "sys.path.append(ROOT_DIR)  # To find local version of the library\n",
    "from mrcnn import utils\n",
    "from mrcnn import visualize\n",
    "from mrcnn.visualize import display_images\n",
    "import mrcnn.model as modellib\n",
    "from mrcnn.model import log"
   ]
  },
  {
   "cell_type": "code",
   "execution_count": 4,
   "metadata": {
    "ExecuteTime": {
     "end_time": "2018-06-12T14:56:43.306093Z",
     "start_time": "2018-06-12T14:56:43.302479Z"
    }
   },
   "outputs": [],
   "source": [
    "home = str(Path.home())\n",
    "data_dir = f\"{home}/data/aneurysm/\"\n",
    "mask_dir = f\"{home}/data/aneurysm/512Auto.ours.masks/\"\n",
    "stl_dir = f\"{home}/data/aneurysm/stls.ours/\"\n",
    "dcm_dir = f\"{home}/data/aneurysm/512Auto.ours/\"\n",
    "pngs_dir = f\"{home}/data/aneurysm/512Auto.pngs/\"\n",
    "masks_pngs_dir = f\"{home}/data/aneurysm/512Auto.masks.pngs/\"\n",
    "\n",
    "dirs = [data_dir,mask_dir,stl_dir,dcm_dir,pngs_dir,masks_pngs_dir]"
   ]
  },
  {
   "cell_type": "code",
   "execution_count": 5,
   "metadata": {
    "ExecuteTime": {
     "end_time": "2018-06-12T14:56:55.250821Z",
     "start_time": "2018-06-12T14:56:55.004308Z"
    },
    "scrolled": true
   },
   "outputs": [
    {
     "name": "stdout",
     "output_type": "stream",
     "text": [
      "\u001b[01;34m/home/amer/data/aneurysm/\u001b[00m\n",
      "├── \u001b[01;31m512Auto.masks.pngs.tar.gz\u001b[00m\n",
      "├── \u001b[01;34m512Auto.ours\u001b[00m\n",
      "│   ├── \u001b[01;32mA012.dcm\u001b[00m\n",
      "│   ├── \u001b[01;32mA013.dcm\u001b[00m\n",
      "│   ├── \u001b[01;32mA015.dcm\u001b[00m\n",
      "│   └── \u001b[01;32mA016.dcm\u001b[00m\n",
      "├── \u001b[01;34m512Auto.ours.masks\u001b[00m\n",
      "│   ├── A012.mask.dcm\n",
      "│   ├── A013.mask.dcm\n",
      "│   ├── A015.mask.dcm\n",
      "│   └── A016.mask.dcm\n",
      "└── \u001b[01;34mstls.ours\u001b[00m\n",
      "    ├── \u001b[01;32mA012.stl\u001b[00m\n",
      "    ├── \u001b[01;32mA013.stl\u001b[00m\n",
      "    ├── \u001b[01;32mA015.stl\u001b[00m\n",
      "    └── \u001b[01;32mA016.stl\u001b[00m\n",
      "\n",
      "3 directories, 13 files\n",
      "/home/amer/Code/ML_for_Medical_Image_Processing\n"
     ]
    }
   ],
   "source": [
    "# for d in dirs:\n",
    "#      !mkdir -p {d}\n",
    "!tree --filelimit=5 {data_dir}\n",
    "!pwd"
   ]
  },
  {
   "cell_type": "code",
   "execution_count": 6,
   "metadata": {
    "ExecuteTime": {
     "end_time": "2018-06-12T14:56:58.434727Z",
     "start_time": "2018-06-12T14:56:58.425564Z"
    }
   },
   "outputs": [],
   "source": [
    "reg_complete_filename = re.compile(\"[^/]*$\") # Match a file name in a path\n",
    "reg_filename = re.compile(\"^([^.]+)\") # Match a file name in a path\n",
    "\n",
    "def get_filename(paths,num):\n",
    "    complete_filename = re.search(reg_complete_filename, paths[num]).group(0)\n",
    "    return re.search(reg_filename, complete_filename).group(0)\n",
    "    \n",
    "def get_dicoms_paths(source_dir):\n",
    "    return sorted(glob.glob(f\"{source_dir}*.dcm\"))"
   ]
  },
  {
   "cell_type": "code",
   "execution_count": 20,
   "metadata": {
    "ExecuteTime": {
     "end_time": "2018-06-12T15:08:48.969434Z",
     "start_time": "2018-06-12T15:08:48.957019Z"
    }
   },
   "outputs": [],
   "source": [
    "def get_pngs(dicoms_paths,dcm_num):\n",
    "    ds = dcm.read_file(dicoms_paths[dcm_num]) # get the dicom file #dcm_num\n",
    "    return ds.pixel_array\n",
    "\n",
    "# Shows one image\n",
    "def browse_dicom(source_dir,dicom_num):\n",
    "    dicoms_paths = get_dicoms_paths(source_dir)\n",
    "    pngs = get_pngs(dicoms_paths,dicom_num)\n",
    "    last = len(pngs)-1\n",
    "    print(dicoms_paths[dicom_num])\n",
    "    def show_png(num):\n",
    "        pylab.imshow(pngs[num],cmap=pylab.cm.bone)\n",
    "    interact(show_png, num=widgets.IntSlider(min=0,max=last,step=1,layout=layout));\n",
    "\n",
    "# Shows original and mask side by side\n",
    "def browse_dicom_and_mask(original_dir,mask_dir,dicom_num):\n",
    "    original_paths = get_dicoms_paths(original_dir)\n",
    "    mask_paths = get_dicoms_paths(mask_dir)\n",
    "    \n",
    "    original_pngs = get_pngs(original_paths,dicom_num)\n",
    "    mask_pngs = get_pngs(mask_paths,dicom_num)\n",
    "    \n",
    "    last = len(original_pngs)-1\n",
    "    print(original_paths[dicom_num])\n",
    "    print(mask_paths[dicom_num])\n",
    "    def show_png(num):\n",
    "        f = plt.figure()\n",
    "        f.add_subplot(1,2, 1)\n",
    "        pylab.imshow(original_pngs[num],cmap=pylab.cm.bone)\n",
    "        f.add_subplot(1,2, 2)\n",
    "        pylab.imshow(mask_pngs[num],cmap=pylab.cm.bone)\n",
    "        plt.show(block=True)\n",
    "    interact(show_png, num=widgets.IntSlider(min=0,max=last,step=1,layout=layout));"
   ]
  },
  {
   "cell_type": "code",
   "execution_count": 23,
   "metadata": {
    "ExecuteTime": {
     "end_time": "2018-06-12T15:11:27.886464Z",
     "start_time": "2018-06-12T15:11:27.322933Z"
    }
   },
   "outputs": [
    {
     "name": "stdout",
     "output_type": "stream",
     "text": [
      "/home/amer/data/aneurysm/512Auto.ours/A013.dcm\n",
      "/home/amer/data/aneurysm/512Auto.ours.masks/A013.mask.dcm\n"
     ]
    },
    {
     "data": {
      "application/vnd.jupyter.widget-view+json": {
       "model_id": "7d76ebdc4e5f4b7eac8b75e1581bfa61",
       "version_major": 2,
       "version_minor": 0
      },
      "text/plain": [
       "interactive(children=(IntSlider(value=0, description='num', layout=Layout(width='90%'), max=438), Output()), _…"
      ]
     },
     "metadata": {},
     "output_type": "display_data"
    }
   ],
   "source": [
    "browse_dicom_and_mask(dcm_dir,mask_dir,1)"
   ]
  },
  {
   "cell_type": "code",
   "execution_count": 22,
   "metadata": {
    "ExecuteTime": {
     "end_time": "2018-06-12T15:09:01.985257Z",
     "start_time": "2018-06-12T15:09:01.980232Z"
    }
   },
   "outputs": [],
   "source": [
    "#browse_dicom(dcm_dir,1) # Show me the MRI Dicom file #2\n",
    "#browse_dicom(mask_dir,1) # Show me the Mask Dicom file #2"
   ]
  },
  {
   "cell_type": "code",
   "execution_count": 7,
   "metadata": {
    "ExecuteTime": {
     "end_time": "2018-06-09T02:15:31.559049Z",
     "start_time": "2018-06-09T02:15:31.556852Z"
    }
   },
   "outputs": [],
   "source": [
    "def save_dicom_to_pngs(source_dir,target_dir,dicom_num):\n",
    "    paths = get_dicoms_paths(source_dir)\n",
    "    dicom_file_name = get_filename(paths,dicom_num)\n",
    "    pngs = get_pngs(paths,dicom_num)\n",
    "    slice_count = len(pngs)-1\n",
    "    for i in range(dicom_num,slice_count):\n",
    "        pylab.imsave(f\"{target_dir}{dicom_file_name}_{i}\",pngs[i],cmap=pylab.cm.bone)\n",
    "    return slice_count+1"
   ]
  },
  {
   "cell_type": "code",
   "execution_count": 8,
   "metadata": {
    "ExecuteTime": {
     "end_time": "2018-06-09T02:15:31.571984Z",
     "start_time": "2018-06-09T02:15:31.559999Z"
    }
   },
   "outputs": [],
   "source": [
    "def breakup_dicom(source_dir,target_dir): # Dicom to pngs\n",
    "    dicom_paths = get_dicoms_paths(source_dir) # Get dicoms files\n",
    "    file_count = len(dicom_paths) # Count dicom files\n",
    "    for i in range(0,file_count):\n",
    "        print(f\"Breaking up {get_filename(dicom_paths,i)} into pngs...\")\n",
    "        slice_num = save_dicom_to_pngs(source_dir,target_dir,i)\n",
    "        print(f\"Finished {get_filename(dicom_paths,i)}! {slice_num} slices were saved.\\n\")\n",
    "    print(f\"PNGs are in {pngs_dir}\")"
   ]
  },
  {
   "cell_type": "code",
   "execution_count": 9,
   "metadata": {
    "ExecuteTime": {
     "end_time": "2018-06-09T02:15:31.577870Z",
     "start_time": "2018-06-09T02:15:31.573757Z"
    }
   },
   "outputs": [],
   "source": [
    "#breakup_dicom(dcm_dir,pngs_dir)"
   ]
  },
  {
   "cell_type": "code",
   "execution_count": 1,
   "metadata": {
    "ExecuteTime": {
     "end_time": "2018-06-12T14:56:20.240937Z",
     "start_time": "2018-06-12T14:56:20.235824Z"
    }
   },
   "outputs": [],
   "source": [
    "#breakup_dicom(mask_dir,masks_pngs_dir)"
   ]
  },
  {
   "cell_type": "code",
   "execution_count": null,
   "metadata": {},
   "outputs": [],
   "source": []
  }
 ],
 "metadata": {
  "kernelspec": {
   "display_name": "fast",
   "language": "python",
   "name": "fast"
  },
  "language_info": {
   "codemirror_mode": {
    "name": "ipython",
    "version": 3
   },
   "file_extension": ".py",
   "mimetype": "text/x-python",
   "name": "python",
   "nbconvert_exporter": "python",
   "pygments_lexer": "ipython3",
   "version": "3.6.5"
  }
 },
 "nbformat": 4,
 "nbformat_minor": 2
}
