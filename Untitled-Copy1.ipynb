{
 "cells": [
  {
   "cell_type": "code",
   "execution_count": 10,
   "metadata": {
    "ExecuteTime": {
     "end_time": "2018-07-05T02:13:21.620832Z",
     "start_time": "2018-07-05T02:13:21.574851Z"
    },
    "code_folding": []
   },
   "outputs": [
    {
     "data": {
      "text/html": [
       "<script>requirejs.config({paths: { 'plotly': ['https://cdn.plot.ly/plotly-latest.min']},});if(!window.Plotly) {{require(['plotly'],function(plotly) {window.Plotly=plotly;});}}</script>"
      ],
      "text/vnd.plotly.v1+html": [
       "<script>requirejs.config({paths: { 'plotly': ['https://cdn.plot.ly/plotly-latest.min']},});if(!window.Plotly) {{require(['plotly'],function(plotly) {window.Plotly=plotly;});}}</script>"
      ]
     },
     "metadata": {},
     "output_type": "display_data"
    }
   ],
   "source": [
    "# Imports\n",
    "%matplotlib inline\n",
    "%reload_ext autoreload\n",
    "%autoreload 2\n",
    "\n",
    "import os\n",
    "import sys\n",
    "import glob as gb\n",
    "import re\n",
    "from pathlib import Path\n",
    "from itertools import repeat\n",
    "import cv2\n",
    "\n",
    "import numpy as np\n",
    "import pandas as pd\n",
    "\n",
    "from PIL import Image\n",
    "\n",
    "from sklearn.preprocessing import MinMaxScaler\n",
    "from sklearn.preprocessing import scale\n",
    "\n",
    "from mlxtend.preprocessing import minmax_scaling\n",
    "\n",
    "import matplotlib\n",
    "import matplotlib.pyplot as plt\n",
    "import matplotlib.style\n",
    "import matplotlib as mpl\n",
    "import matplotlib.image as mpimg\n",
    "from matplotlib import cm\n",
    "mpl.style.use('classic')\n",
    "\n",
    "import pydicom as dcm\n",
    "import pylab\n",
    "\n",
    "from __future__ import print_function\n",
    "from ipywidgets import interact, interactive, fixed, interact_manual, Layout\n",
    "import ipywidgets as widgets\n",
    "\n",
    "from fastai.conv_learner import *\n",
    "from fastai.dataset import *\n",
    "from fastai.models.resnet import vgg_resnet50\n",
    "\n",
    "from pathlib import Path\n",
    "import json\n",
    "torch.cuda.set_device(0)\n",
    "torch.backends.cudnn.benchmark = True\n",
    "\n",
    "import getpass\n",
    "import os\n",
    "\n",
    "from plotly.offline import download_plotlyjs, init_notebook_mode, plot, iplot\n",
    "import plotly.graph_objs as go\n",
    "\n",
    "init_notebook_mode(True)\n",
    "\n",
    "#import ipdb; ipdb.set_trace()"
   ]
  },
  {
   "cell_type": "code",
   "execution_count": 3,
   "metadata": {
    "ExecuteTime": {
     "end_time": "2018-07-04T20:05:56.067595Z",
     "start_time": "2018-07-04T20:05:56.039783Z"
    },
    "code_folding": [
     0
    ]
   },
   "outputs": [],
   "source": [
    "# Fast AI\n",
    "from fastai.conv_learner import *\n",
    "from fastai.dataset import *\n",
    "import json\n",
    "from fastai.models.unet import *"
   ]
  },
  {
   "cell_type": "code",
   "execution_count": 11,
   "metadata": {
    "ExecuteTime": {
     "end_time": "2018-07-05T02:13:30.924836Z",
     "start_time": "2018-07-05T02:13:30.878563Z"
    },
    "code_folding": []
   },
   "outputs": [],
   "source": [
    "# Pathes\n",
    "HOME = Path.home()\n",
    "DATA = HOME / 'data/aneurysm'\n",
    "\n",
    "CT_DCM = DATA / 'ct-512'\n",
    "MASK_DCM = DATA / 'mask-512'\n",
    "\n",
    "CT_NP = DATA / 'ct-512-NP'\n",
    "MASK_NP = DATA / 'mask-512-NP'\n",
    "\n",
    "CT_PNG = DATA / 'ct-512-PNG'\n",
    "MASK_PNG = DATA / 'mask-512-PNG'\n",
    "\n",
    "# CT_128 = DATA / 'train-128'\n",
    "# MASK_128 = DATA / 'train_masks-128'\n",
    "\n",
    "# CT_128_NP = DATA / 'ct-128-NP'\n",
    "# MASK_128_NP = DATA / 'mask-128-NP'\n",
    "\n",
    "TMP = DATA / 'tmp'\n",
    "\n",
    "CT_NP.mkdir(exist_ok=True)\n",
    "MASK_NP.mkdir(exist_ok=True)\n",
    "\n",
    "CT_PNG.mkdir(exist_ok=True)\n",
    "MASK_PNG.mkdir(exist_ok=True)\n",
    "\n",
    "torch.cuda.set_device(0)"
   ]
  },
  {
   "cell_type": "code",
   "execution_count": 12,
   "metadata": {
    "ExecuteTime": {
     "end_time": "2018-07-05T02:13:32.413116Z",
     "start_time": "2018-07-05T02:13:32.368481Z"
    }
   },
   "outputs": [
    {
     "data": {
      "text/plain": [
       "array([ True])"
      ]
     },
     "execution_count": 12,
     "metadata": {},
     "output_type": "execute_result"
    }
   ],
   "source": [
    "\n",
    "\n",
    "ct_paths = sorted(list(Path(CT_DCM).iterdir()))\n",
    "mask_paths = sorted(list(Path(MASK_DCM).iterdir()))\n",
    "\n",
    "points = len(ct_paths)\n",
    "\n",
    "# Check that each CT has the correct corresponding Mask\n",
    "np.unique([ct_paths[i].stem == mask_paths[i].stem[:4] for i in range(points)]) == [True]"
   ]
  },
  {
   "cell_type": "code",
   "execution_count": 13,
   "metadata": {
    "ExecuteTime": {
     "end_time": "2018-07-05T02:13:33.444687Z",
     "start_time": "2018-07-05T02:13:33.406519Z"
    },
    "scrolled": true
   },
   "outputs": [],
   "source": [
    "def dcm_pixel_array(path):\n",
    "    return dcm.read_file(str(path)).pixel_array\n",
    "\n",
    "def dcms_to_npy(dcms_paths,output_dir):\n",
    "    for file_path in dcms_paths:\n",
    "        ct = dcm_pixel_array(file_path)\n",
    "        dcm_shape = np.shape(ct)\n",
    "        until_slice = dcm_shape[0] - dcm_shape[0]%3\n",
    "        np_arryes_count = (dcm_shape[0]- dcm_shape[0]%3) / 3\n",
    "        print(f\"{file_path.stem}:  {ct.dtype},{int(np_arryes_count)}\",end=\" | \")\n",
    "        npys = np.split(ct[:until_slice],(np_arryes_count))\n",
    "        for i in range(len(npys)):\n",
    "            np.save(output_dir/f\"{file_path.stem}_{i}\",npys[i])\n",
    "            \n",
    "def dcm_to_png(file_path,output_dir):\n",
    "    pixel_array = dcm_pixel_array(file_path)\n",
    "    print(f\"{file_path.stem}:  {pixel_array.dtype},{np.shape(pixel_array)}\",end=\" | \")\n",
    "    for i in range(len(pixel_array)):\n",
    "        if i % 10 == 0: print(\". \",end=\"\")\n",
    "        plt.imsave(output_dir/f\"{file_path.stem}_{i}\",pixel_array[i])"
   ]
  },
  {
   "cell_type": "code",
   "execution_count": 14,
   "metadata": {
    "ExecuteTime": {
     "end_time": "2018-07-04T19:23:46.106959Z",
     "start_time": "2018-07-04T19:06:41.615458Z"
    }
   },
   "outputs": [
    {
     "name": "stdout",
     "output_type": "stream",
     "text": [
      "A012:  int16,(439, 512, 512)A019:  int16,(439, 512, 512) | . A015:  int16,(439, 512, 512) | .  | A022:  int16,(439, 512, 512) | . A016:  int16,(439, 512, 512) | . A018:  int16,(455, 512, 512)A017:  int16,(878, 512, 512) | .  | . . A013:  int16,(439, 512, 512) | . . . . . . . . . . . . . . . . . . . . . . . . . . . . . . . . . . . . . . . . . . . . . . . . . . . . . . . . . . . . . . . . . . . . . . . . . . . . . . . . . . . . . . . . . . . . . . . . . . . . . . . . . . . . . . . . . . . . . . . . . . . . . . . . . . . . . . . . . . . . . . . . . . . . . . . . . . . . . . . . . . . . . . . . . . . . . . . . . . . . . . . . . . . . . . . . . . . . . . . . . . . . . . . . . . . . . . . . . . . . . . . . . . . . . . . . . . . . . . . . . . . . . . . . . . . . . . . . . . . . . . . . . . . . . . . . . . . . . . . . . . . . . . . . . . . . . . . . . . . . . . . . . . . . . . . . . . . . . . . . . . . . . . . . . . . . . . . . . . . . . . . . . A023:  int16,(439, 512, 512) | . A024:  int16,(440, 512, 512) | . A025:  int16,(439, 512, 512) | . A027:  int16,(439, 512, 512) | . A029:  int16,(440, 512, 512) | . A031:  int16,(439, 512, 512) | . . . . . . . . . . . A032:  int16,(439, 512, 512) | . . . . . . . . . . . . . . . . . . . . . . . . . . . . . . . . . . . . . . . . . . . . . . . . . . . . . . . . . . . . . . . . . . . . . . . . . . . . . . . . . . . . . . . . . . . . . . . . . . . . . . . . . . . . . . . . . . . . . . . . . . . . . . . . . . . . . . . . . . . . . . . . . . . . . . . . . . . . . . . . . . . . . . . . . . . . . . . . . . . . . . . . . . . . . . . . . . . . . . . . . . . . . . . . . . . . . . . . . . . . . . . . . . . . . . . . . . . . . . . . . . . . . . . . . . . . . . . . . . . . . . . . . . . . . . . . . . . . . . . . . . . . . . . . . . . . . . . . . . . . . . . . . . . . . . . . . . . . . . . . . . . . . . . . . . . . . . . . . A033:  int16,(439, 512, 512) | . A036:  int16,(455, 512, 512) | . A040:  int16,(439, 512, 512) | . A041:  int16,(439, 512, 512) | . A042:  int16,(439, 512, 512) | . A043:  int16,(455, 512, 512) | . A046:  int16,(439, 512, 512) | . "
     ]
    },
    {
     "ename": "KeyboardInterrupt",
     "evalue": "",
     "output_type": "error",
     "traceback": [
      "\u001b[0;31m---------------------------------------------------------------------------\u001b[0m",
      "\u001b[0;31mKeyboardInterrupt\u001b[0m                         Traceback (most recent call last)",
      "\u001b[0;32m<ipython-input-14-5046094bf5dd>\u001b[0m in \u001b[0;36m<module>\u001b[0;34m()\u001b[0m\n\u001b[1;32m      1\u001b[0m \u001b[0;31m#dcm_to_png(ct_paths[1],CT_PNG)\u001b[0m\u001b[0;34m\u001b[0m\u001b[0;34m\u001b[0m\u001b[0m\n\u001b[0;32m----> 2\u001b[0;31m \u001b[0;32mwith\u001b[0m \u001b[0mThreadPoolExecutor\u001b[0m\u001b[0;34m(\u001b[0m\u001b[0;36m8\u001b[0m\u001b[0;34m)\u001b[0m \u001b[0;32mas\u001b[0m \u001b[0me\u001b[0m\u001b[0;34m:\u001b[0m \u001b[0me\u001b[0m\u001b[0;34m.\u001b[0m\u001b[0mmap\u001b[0m\u001b[0;34m(\u001b[0m\u001b[0mdcm_to_png\u001b[0m\u001b[0;34m,\u001b[0m\u001b[0mct_paths\u001b[0m\u001b[0;34m,\u001b[0m\u001b[0mrepeat\u001b[0m\u001b[0;34m(\u001b[0m\u001b[0mCT_PNG\u001b[0m\u001b[0;34m)\u001b[0m\u001b[0;34m)\u001b[0m\u001b[0;34m\u001b[0m\u001b[0m\n\u001b[0m",
      "\u001b[0;32m~/anaconda3/envs/fast/lib/python3.6/concurrent/futures/_base.py\u001b[0m in \u001b[0;36m__exit__\u001b[0;34m(self, exc_type, exc_val, exc_tb)\u001b[0m\n\u001b[1;32m    609\u001b[0m \u001b[0;34m\u001b[0m\u001b[0m\n\u001b[1;32m    610\u001b[0m     \u001b[0;32mdef\u001b[0m \u001b[0m__exit__\u001b[0m\u001b[0;34m(\u001b[0m\u001b[0mself\u001b[0m\u001b[0;34m,\u001b[0m \u001b[0mexc_type\u001b[0m\u001b[0;34m,\u001b[0m \u001b[0mexc_val\u001b[0m\u001b[0;34m,\u001b[0m \u001b[0mexc_tb\u001b[0m\u001b[0;34m)\u001b[0m\u001b[0;34m:\u001b[0m\u001b[0;34m\u001b[0m\u001b[0m\n\u001b[0;32m--> 611\u001b[0;31m         \u001b[0mself\u001b[0m\u001b[0;34m.\u001b[0m\u001b[0mshutdown\u001b[0m\u001b[0;34m(\u001b[0m\u001b[0mwait\u001b[0m\u001b[0;34m=\u001b[0m\u001b[0;32mTrue\u001b[0m\u001b[0;34m)\u001b[0m\u001b[0;34m\u001b[0m\u001b[0m\n\u001b[0m\u001b[1;32m    612\u001b[0m         \u001b[0;32mreturn\u001b[0m \u001b[0;32mFalse\u001b[0m\u001b[0;34m\u001b[0m\u001b[0m\n",
      "\u001b[0;32m~/anaconda3/envs/fast/lib/python3.6/concurrent/futures/thread.py\u001b[0m in \u001b[0;36mshutdown\u001b[0;34m(self, wait)\u001b[0m\n\u001b[1;32m    150\u001b[0m         \u001b[0;32mif\u001b[0m \u001b[0mwait\u001b[0m\u001b[0;34m:\u001b[0m\u001b[0;34m\u001b[0m\u001b[0m\n\u001b[1;32m    151\u001b[0m             \u001b[0;32mfor\u001b[0m \u001b[0mt\u001b[0m \u001b[0;32min\u001b[0m \u001b[0mself\u001b[0m\u001b[0;34m.\u001b[0m\u001b[0m_threads\u001b[0m\u001b[0;34m:\u001b[0m\u001b[0;34m\u001b[0m\u001b[0m\n\u001b[0;32m--> 152\u001b[0;31m                 \u001b[0mt\u001b[0m\u001b[0;34m.\u001b[0m\u001b[0mjoin\u001b[0m\u001b[0;34m(\u001b[0m\u001b[0;34m)\u001b[0m\u001b[0;34m\u001b[0m\u001b[0m\n\u001b[0m\u001b[1;32m    153\u001b[0m     \u001b[0mshutdown\u001b[0m\u001b[0;34m.\u001b[0m\u001b[0m__doc__\u001b[0m \u001b[0;34m=\u001b[0m \u001b[0m_base\u001b[0m\u001b[0;34m.\u001b[0m\u001b[0mExecutor\u001b[0m\u001b[0;34m.\u001b[0m\u001b[0mshutdown\u001b[0m\u001b[0;34m.\u001b[0m\u001b[0m__doc__\u001b[0m\u001b[0;34m\u001b[0m\u001b[0m\n",
      "\u001b[0;32m~/anaconda3/envs/fast/lib/python3.6/threading.py\u001b[0m in \u001b[0;36mjoin\u001b[0;34m(self, timeout)\u001b[0m\n\u001b[1;32m   1054\u001b[0m \u001b[0;34m\u001b[0m\u001b[0m\n\u001b[1;32m   1055\u001b[0m         \u001b[0;32mif\u001b[0m \u001b[0mtimeout\u001b[0m \u001b[0;32mis\u001b[0m \u001b[0;32mNone\u001b[0m\u001b[0;34m:\u001b[0m\u001b[0;34m\u001b[0m\u001b[0m\n\u001b[0;32m-> 1056\u001b[0;31m             \u001b[0mself\u001b[0m\u001b[0;34m.\u001b[0m\u001b[0m_wait_for_tstate_lock\u001b[0m\u001b[0;34m(\u001b[0m\u001b[0;34m)\u001b[0m\u001b[0;34m\u001b[0m\u001b[0m\n\u001b[0m\u001b[1;32m   1057\u001b[0m         \u001b[0;32melse\u001b[0m\u001b[0;34m:\u001b[0m\u001b[0;34m\u001b[0m\u001b[0m\n\u001b[1;32m   1058\u001b[0m             \u001b[0;31m# the behavior of a negative timeout isn't documented, but\u001b[0m\u001b[0;34m\u001b[0m\u001b[0;34m\u001b[0m\u001b[0m\n",
      "\u001b[0;32m~/anaconda3/envs/fast/lib/python3.6/threading.py\u001b[0m in \u001b[0;36m_wait_for_tstate_lock\u001b[0;34m(self, block, timeout)\u001b[0m\n\u001b[1;32m   1070\u001b[0m         \u001b[0;32mif\u001b[0m \u001b[0mlock\u001b[0m \u001b[0;32mis\u001b[0m \u001b[0;32mNone\u001b[0m\u001b[0;34m:\u001b[0m  \u001b[0;31m# already determined that the C code is done\u001b[0m\u001b[0;34m\u001b[0m\u001b[0m\n\u001b[1;32m   1071\u001b[0m             \u001b[0;32massert\u001b[0m \u001b[0mself\u001b[0m\u001b[0;34m.\u001b[0m\u001b[0m_is_stopped\u001b[0m\u001b[0;34m\u001b[0m\u001b[0m\n\u001b[0;32m-> 1072\u001b[0;31m         \u001b[0;32melif\u001b[0m \u001b[0mlock\u001b[0m\u001b[0;34m.\u001b[0m\u001b[0macquire\u001b[0m\u001b[0;34m(\u001b[0m\u001b[0mblock\u001b[0m\u001b[0;34m,\u001b[0m \u001b[0mtimeout\u001b[0m\u001b[0;34m)\u001b[0m\u001b[0;34m:\u001b[0m\u001b[0;34m\u001b[0m\u001b[0m\n\u001b[0m\u001b[1;32m   1073\u001b[0m             \u001b[0mlock\u001b[0m\u001b[0;34m.\u001b[0m\u001b[0mrelease\u001b[0m\u001b[0;34m(\u001b[0m\u001b[0;34m)\u001b[0m\u001b[0;34m\u001b[0m\u001b[0m\n\u001b[1;32m   1074\u001b[0m             \u001b[0mself\u001b[0m\u001b[0;34m.\u001b[0m\u001b[0m_stop\u001b[0m\u001b[0;34m(\u001b[0m\u001b[0;34m)\u001b[0m\u001b[0;34m\u001b[0m\u001b[0m\n",
      "\u001b[0;31mKeyboardInterrupt\u001b[0m: "
     ]
    },
    {
     "name": "stdout",
     "output_type": "stream",
     "text": [
      ". . . . . . . . A047:  int16,(439, 512, 512) | . . . . . . . . "
     ]
    }
   ],
   "source": [
    "#dcm_to_png(ct_paths[1],CT_PNG)\n",
    "with ThreadPoolExecutor(8) as e: e.map(dcm_to_png,ct_paths,repeat(CT_PNG))"
   ]
  },
  {
   "cell_type": "code",
   "execution_count": null,
   "metadata": {},
   "outputs": [],
   "source": [
    "#with ThreadPoolExecutor(8) as e: e.map(dcm_to_png,mask_paths,repeat(MASK_PNG))"
   ]
  },
  {
   "cell_type": "code",
   "execution_count": null,
   "metadata": {},
   "outputs": [],
   "source": []
  },
  {
   "cell_type": "code",
   "execution_count": 105,
   "metadata": {
    "ExecuteTime": {
     "end_time": "2018-07-04T18:44:33.007815Z",
     "start_time": "2018-07-04T18:44:32.958529Z"
    }
   },
   "outputs": [],
   "source": [
    "# dcms_to_npy(ct_paths,CT_NP)\n",
    "# dcms_to_npy(mask_paths,MASK_NP)"
   ]
  },
  {
   "cell_type": "code",
   "execution_count": 88,
   "metadata": {
    "ExecuteTime": {
     "end_time": "2018-07-04T16:18:21.556254Z",
     "start_time": "2018-07-04T16:18:21.490294Z"
    },
    "code_folding": []
   },
   "outputs": [],
   "source": [
    "# Classes and methods\n",
    "\n",
    "class FilesDataset(BaseDataset):\n",
    "    def __init__(self, fnames, transform, path):\n",
    "        self.path,self.fnames = path,fnames\n",
    "        super().__init__(transform)\n",
    "    def get_sz(self): return self.transform.sz\n",
    "    def get_x(self, i): return open_image(os.path.join(self.path, self.fnames[i]))\n",
    "    def get_n(self): return len(self.fnames)\n",
    "\n",
    "    def resize_imgs(self, targ, new_path):\n",
    "        dest = resize_imgs(self.fnames, targ, self.path, new_path)\n",
    "        return self.__class__(self.fnames, self.y, self.transform, dest)\n",
    "\n",
    "    def denorm(self,arr):\n",
    "        \"\"\"Reverse the normalization done to a batch of images.\n",
    "\n",
    "        Arguments:\n",
    "            arr: of shape/size (N,3,sz,sz)\n",
    "        \"\"\"\n",
    "        if type(arr) is not np.ndarray: arr = to_np(arr)\n",
    "        if len(arr.shape)==3: arr = arr[None]\n",
    "        return self.transform.denorm(np.rollaxis(arr,1,4))\n",
    "\n",
    "class MatchedFilesDataset (FilesDataset):\n",
    "    def __init__(self, fnames, y, transform, path):\n",
    "        self.y=y\n",
    "        assert(len(fnames)==len(y))\n",
    "        super().__init__(fnames, transform, path)\n",
    "    def get_y(self, i): \n",
    "        return open_image(os.path.join(self.path, self.y[i]))\n",
    "    def get_c(self): \n",
    "        return 0\n",
    "    \n",
    "# Wrap everything nicely# Wrap  \n",
    "class UpsampleModel():\n",
    "    def __init__(self, model, cut_lr, name='upsample'):\n",
    "        self.model,self.name, self.cut_lr = model, name, cut_lr\n",
    "\n",
    "    def get_layer_groups(self, precompute):\n",
    "        lgs = list(split_by_idxs(children(self.model.encoder), [self.cut_lr]))\n",
    "        return lgs + [children(self.model)[1:]]\n",
    "    \n",
    "# load defined model\n",
    "def get_encoder(f, cut):\n",
    "    base_model = (cut_model(f(True), cut))\n",
    "    return nn.Sequential(*base_model)\n",
    "\n",
    "def mask_loss(pred, targ):\n",
    "    return F.binary_cross_entropy_with_logits(pred[:, 0], targ[..., 0])\n",
    "\n",
    "\n",
    "def mask_acc(pred, targ):\n",
    "    return accuracy_multi(pred[:, 0], targ[..., 0], 0.)\n",
    "\n",
    "\n",
    "def dice(pred, targs):\n",
    "    m1 = (pred[:, 0] > 0).float()\n",
    "    m2 = targs[..., 0]\n",
    "    return 2. * (m1 * m2).sum() / (m1 + m2).sum()\n",
    "\n",
    "\n",
    "def multi_acc(logits, targets):\n",
    "    bs, c, h, w = logits.size()\n",
    "    out2 = logits.view(bs, c, h * w).transpose(2, 1).contiguous()\n",
    "    input_ = out2.view(bs * h * w, c)\n",
    "\n",
    "    # target for cross entropy\n",
    "    _, idx = torch.max(targets, 1)\n",
    "    target = idx.view(-1)\n",
    "\n",
    "    return sum(torch.max(input_, dim=1)[1] == target) / len(target)"
   ]
  },
  {
   "cell_type": "code",
   "execution_count": 79,
   "metadata": {
    "ExecuteTime": {
     "end_time": "2018-07-04T16:13:51.065972Z",
     "start_time": "2018-07-04T16:13:50.982888Z"
    },
    "code_folding": []
   },
   "outputs": [
    {
     "data": {
      "text/plain": [
       "(0, 22)"
      ]
     },
     "execution_count": 79,
     "metadata": {},
     "output_type": "execute_result"
    }
   ],
   "source": [
    "# VGG16\n",
    "f = vgg16\n",
    "cut, cut_lr = model_meta[f]\n",
    "\n",
    "sz = 512\n",
    "bs = 8\n",
    "\n",
    "cut, cut_lr"
   ]
  },
  {
   "cell_type": "code",
   "execution_count": 100,
   "metadata": {
    "ExecuteTime": {
     "end_time": "2018-07-04T16:26:03.530034Z",
     "start_time": "2018-07-04T16:26:03.424972Z"
    },
    "code_folding": []
   },
   "outputs": [
    {
     "ename": "NameError",
     "evalue": "name 'TRN_X' is not defined",
     "output_type": "error",
     "traceback": [
      "\u001b[0;31m-------------------------------------------------\u001b[0m",
      "\u001b[0;31mNameError\u001b[0m       Traceback (most recent call last)",
      "\u001b[0;32m<ipython-input-100-90d5295d7090>\u001b[0m in \u001b[0;36m<module>\u001b[0;34m()\u001b[0m\n\u001b[1;32m      3\u001b[0m \u001b[0;34m\u001b[0m\u001b[0m\n\u001b[1;32m      4\u001b[0m dataset = ImageData.get_ds(\n\u001b[0;32m----> 5\u001b[0;31m     \u001b[0mMatchedFilesDataset\u001b[0m\u001b[0;34m,\u001b[0m \u001b[0;34m(\u001b[0m\u001b[0mTRN_X\u001b[0m\u001b[0;34m,\u001b[0m \u001b[0mTRN_Y\u001b[0m\u001b[0;34m)\u001b[0m\u001b[0;34m,\u001b[0m \u001b[0;34m(\u001b[0m\u001b[0mVAL_X\u001b[0m\u001b[0;34m,\u001b[0m \u001b[0mVAL_Y\u001b[0m\u001b[0;34m)\u001b[0m\u001b[0;34m,\u001b[0m\u001b[0;34m\u001b[0m\u001b[0m\n\u001b[0m\u001b[1;32m      6\u001b[0m     \u001b[0mtfms\u001b[0m\u001b[0;34m=\u001b[0m\u001b[0mtfms\u001b[0m\u001b[0;34m,\u001b[0m\u001b[0;34m\u001b[0m\u001b[0m\n\u001b[1;32m      7\u001b[0m     \u001b[0mtest\u001b[0m\u001b[0;34m=\u001b[0m\u001b[0;34m(\u001b[0m\u001b[0mTEST_X\u001b[0m\u001b[0;34m,\u001b[0m \u001b[0mTEST_Y\u001b[0m\u001b[0;34m)\u001b[0m\u001b[0;34m,\u001b[0m\u001b[0;34m\u001b[0m\u001b[0m\n",
      "\u001b[0;31mNameError\u001b[0m: name 'TRN_X' is not defined"
     ]
    }
   ],
   "source": [
    "tfms = tfms_from_model(\n",
    "    f, sz, crop_type=CropType.NO, tfm_y=None)  # imagenet stats\n",
    "\n",
    "dataset = ImageData.get_ds(\n",
    "    MatchedFilesDataset, (TRN_X, TRN_Y), (VAL_X, VAL_Y),\n",
    "    tfms=tfms,\n",
    "    test=(TEST_X, TEST_Y),\n",
    "    path=PATH)\n",
    "\n",
    "md = ImageData(PATH, dataset, bs, num_workers=8, classes=None)\n",
    "\n",
    "denorm = md.trn_ds.denorm"
   ]
  },
  {
   "cell_type": "code",
   "execution_count": 205,
   "metadata": {
    "ExecuteTime": {
     "end_time": "2018-07-04T17:10:34.051738Z",
     "start_time": "2018-07-04T17:10:29.915939Z"
    }
   },
   "outputs": [],
   "source": [
    "encoderencoder = get_encoder(f, 30).cpu()\n",
    "m = DynamicUnet(encoder.cpu()).cpu()\n",
    "\n",
    "# create a dummy input - I couldn't find a work around for this to co-op with cpu - gpu tensor weight\n",
    "# incosistencies so it's best to make a single forward pass ourselves if we want to use the gpu\n",
    "# otherwise it will be fine on cpu\n",
    "inp = torch.ones(1,3,512,512)\n",
    "out = m(V(inp).cpu())"
   ]
  },
  {
   "cell_type": "code",
   "execution_count": 54,
   "metadata": {
    "ExecuteTime": {
     "end_time": "2018-07-04T18:27:46.741253Z",
     "start_time": "2018-07-04T18:27:46.686124Z"
    }
   },
   "outputs": [],
   "source": [
    "# Concatenate three (height, width)s into one (height, width, 3).\n",
    "def concat_channels(r, g, b):\n",
    "    #assert r.ndim == 2 and g.ndim == 2 and b.ndim == 2\n",
    "    rgb = (r[..., np.newaxis], g[..., np.newaxis], b[..., np.newaxis])\n",
    "    return np.concatenate(rgb, axis=-1)"
   ]
  },
  {
   "cell_type": "code",
   "execution_count": 91,
   "metadata": {
    "ExecuteTime": {
     "end_time": "2018-07-04T18:40:30.953772Z",
     "start_time": "2018-07-04T18:40:30.768201Z"
    }
   },
   "outputs": [],
   "source": [
    "\n",
    "TRAIN_DIRS = list(CT_NP.iterdir())\n",
    "\n",
    "#vis = np.ones((512, 512), np.float32)\n",
    "#vis2 = cv2.cvtColor(vis, cv2.COLOR_GRAY2BGR)\n",
    "#plt.imshow(vis2)\n",
    "\n",
    "a = np.load(TRAIN_DIRS[1]).astype(np.int16)\n",
    "\n",
    "r,g,b = a\n",
    "\n",
    "\n",
    "plt.imsave(\"test.png\",a[0])"
   ]
  },
  {
   "cell_type": "code",
   "execution_count": 9,
   "metadata": {
    "ExecuteTime": {
     "end_time": "2018-07-04T21:30:00.299825Z",
     "start_time": "2018-07-04T21:30:00.061034Z"
    }
   },
   "outputs": [
    {
     "data": {
      "text/plain": [
       "<matplotlib.image.AxesImage at 0x7f257b11f278>"
      ]
     },
     "execution_count": 9,
     "metadata": {},
     "output_type": "execute_result"
    },
    {
     "data": {
      "image/png": "[encoded data removed]",
      "text/plain": [
       "<Figure size 432x288 with 1 Axes>"
      ]
     },
     "metadata": {},
     "output_type": "display_data"
    }
   ],
   "source": [
    "plt.imshow(plt.imread(\"test.png\"))"
   ]
  },
  {
   "cell_type": "code",
   "execution_count": 99,
   "metadata": {
    "ExecuteTime": {
     "end_time": "2018-07-04T18:42:28.051196Z",
     "start_time": "2018-07-04T18:42:27.985831Z"
    }
   },
   "outputs": [
    {
     "data": {
      "text/plain": [
       "(512, 512, 4)"
      ]
     },
     "execution_count": 99,
     "metadata": {},
     "output_type": "execute_result"
    }
   ],
   "source": [
    "img =plt.imread(\"test.png\")\n",
    "np.shape(img)"
   ]
  },
  {
   "cell_type": "code",
   "execution_count": 122,
   "metadata": {
    "ExecuteTime": {
     "end_time": "2018-07-04T18:57:17.561993Z",
     "start_time": "2018-07-04T18:57:17.508164Z"
    }
   },
   "outputs": [
    {
     "name": "stdout",
     "output_type": "stream",
     "text": [
      ". \n",
      ". \n",
      ". \n",
      ". \n",
      ". \n",
      ". \n",
      ". \n",
      ". \n",
      ". \n",
      ". \n"
     ]
    }
   ],
   "source": [
    "for i in range(100):\n",
    "    if i % 10 == 0: print(\". \")"
   ]
  },
  {
   "cell_type": "code",
   "execution_count": 8,
   "metadata": {
    "ExecuteTime": {
     "end_time": "2018-07-04T20:06:13.683632Z",
     "start_time": "2018-07-04T20:06:13.655343Z"
    }
   },
   "outputs": [
    {
     "data": {
      "text/plain": [
       "<mtrand.RandomState at 0x7f25d0e58990>"
      ]
     },
     "execution_count": 8,
     "metadata": {},
     "output_type": "execute_result"
    }
   ],
   "source": [
    "np.random.RandomState(3)"
   ]
  },
  {
   "cell_type": "code",
   "execution_count": null,
   "metadata": {},
   "outputs": [],
   "source": [
    "class RandomStretch(CoordTransform):\n",
    "    def __init__(self, max_stretch, tfm_y=TfmType.NO):\n",
    "        super().__init__(tfm_y)\n",
    "        self.max_stretch = max_stretch\n",
    "\n",
    "    def set_state(self):\n",
    "        self.store.stretch = self.max_stretch*random.random()\n",
    "        self.store.dalpha\n",
    "        self.store.dsigma\n",
    "        self.store.dalpha_affine\n",
    "        self.store.elastic = random.randint(0,1)\n",
    "\n",
    "    def do_transform(self, x, is_y):\n",
    "        if self.store.elastic==0: x = elastic_transform(image, alpha, sigma, alpha_affine, random_state=None)\n",
    "        else:                     x = elastic_transform(image, alpha, sigma, alpha_affine, random_state=None)\n",
    "        return x"
   ]
  },
  {
   "cell_type": "code",
   "execution_count": null,
   "metadata": {},
   "outputs": [],
   "source": [
    "# Function to distort image\n",
    "def elastic_transform(image, alpha, sigma, alpha_affine, random_state=None):\n",
    "    if random_state is None:\n",
    "        random_state = np.random.RandomState(None)\n",
    "\n",
    "    shape = image.shape\n",
    "    shape_size = shape[:2]\n",
    "    \n",
    "    # Random affine\n",
    "    center_square = np.float32(shape_size) // 2\n",
    "    square_size = min(shape_size) // 3\n",
    "    pts1 = np.float32([center_square + square_size, [center_square[0]+square_size, center_square[1]-square_size], center_square - square_size])\n",
    "    pts2 = pts1 + random_state.uniform(-alpha_affine, alpha_affine, size=pts1.shape).astype(np.float32)\n",
    "    M = cv2.getAffineTransform(pts1, pts2)\n",
    "    image = cv2.warpAffine(image, M, shape_size[::-1], borderMode=cv2.BORDER_REFLECT_101)\n",
    "\n",
    "    dx = gaussian_filter((random_state.rand(*shape) * 2 - 1), sigma) * alpha\n",
    "    dy = gaussian_filter((random_state.rand(*shape) * 2 - 1), sigma) * alpha\n",
    "    dz = np.zeros_like(dx)\n",
    "\n",
    "    x, y, z = np.meshgrid(np.arange(shape[1]), np.arange(shape[0]), np.arange(shape[2]))\n",
    "    indices = np.reshape(y+dy, (-1, 1)), np.reshape(x+dx, (-1, 1)), np.reshape(z, (-1, 1))\n",
    "\n",
    "    return map_coordinates(image, indices, order=1, mode='reflect').reshape(shape)"
   ]
  }
 ],
 "metadata": {
  "kernelspec": {
   "display_name": "fast",
   "language": "python",
   "name": "fast"
  },
  "language_info": {
   "codemirror_mode": {
    "name": "ipython",
    "version": 3
   },
   "file_extension": ".py",
   "mimetype": "text/x-python",
   "name": "python",
   "nbconvert_exporter": "python",
   "pygments_lexer": "ipython3",
   "version": "3.6.5"
  }
 },
 "nbformat": 4,
 "nbformat_minor": 2
}
