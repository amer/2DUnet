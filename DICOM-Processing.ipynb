{
 "cells": [
  {
   "cell_type": "code",
   "execution_count": 1,
   "metadata": {
    "ExecuteTime": {
     "end_time": "2018-07-05T09:54:18.419515Z",
     "start_time": "2018-07-05T09:54:17.501204Z"
    }
   },
   "outputs": [
    {
     "data": {
      "text/html": [
       "<script>requirejs.config({paths: { 'plotly': ['https://cdn.plot.ly/plotly-latest.min']},});if(!window.Plotly) {{require(['plotly'],function(plotly) {window.Plotly=plotly;});}}</script>"
      ],
      "text/vnd.plotly.v1+html": [
       "<script>requirejs.config({paths: { 'plotly': ['https://cdn.plot.ly/plotly-latest.min']},});if(!window.Plotly) {{require(['plotly'],function(plotly) {window.Plotly=plotly;});}}</script>"
      ]
     },
     "metadata": {},
     "output_type": "display_data"
    }
   ],
   "source": [
    "%matplotlib inline\n",
    "%reload_ext autoreload\n",
    "%autoreload 2\n",
    "\n",
    "import os\n",
    "import sys\n",
    "import glob as gb\n",
    "import re\n",
    "from pathlib import Path\n",
    "from itertools import repeat\n",
    "\n",
    "import numpy as np\n",
    "import pandas as pd\n",
    "\n",
    "\n",
    "\n",
    "from PIL import Image\n",
    "\n",
    "from sklearn.preprocessing import MinMaxScaler\n",
    "from sklearn.preprocessing import scale\n",
    "\n",
    "from mlxtend.preprocessing import minmax_scaling\n",
    "\n",
    "\n",
    "import matplotlib\n",
    "import matplotlib.pyplot as plt\n",
    "import matplotlib.style\n",
    "import matplotlib as mpl\n",
    "import matplotlib.image as mpimg\n",
    "from matplotlib import cm\n",
    "mpl.style.use('classic')\n",
    "\n",
    "import pydicom as dcm\n",
    "import pylab\n",
    "\n",
    "from __future__ import print_function\n",
    "from ipywidgets import interact, interactive, fixed, interact_manual, Layout\n",
    "import ipywidgets as widgets\n",
    "\n",
    "\n",
    "from fastai.conv_learner import *\n",
    "from fastai.dataset import *\n",
    "from fastai.models.resnet import vgg_resnet50\n",
    "\n",
    "from pathlib import Path\n",
    "import json\n",
    "torch.cuda.set_device(0)\n",
    "torch.backends.cudnn.benchmark=True\n",
    "\n",
    "\n",
    "import getpass\n",
    "import os\n",
    "\n",
    "from plotly.offline import download_plotlyjs, init_notebook_mode, plot, iplot\n",
    "import plotly.graph_objs as go\n",
    "\n",
    "init_notebook_mode(True)\n",
    "\n",
    "#import ipdb; ipdb.set_trace()"
   ]
  },
  {
   "cell_type": "code",
   "execution_count": 16,
   "metadata": {
    "ExecuteTime": {
     "end_time": "2018-07-05T10:04:22.691767Z",
     "start_time": "2018-07-05T10:04:22.657875Z"
    }
   },
   "outputs": [],
   "source": [
    "# Pathes\n",
    "HOME = Path.home()\n",
    "\n",
    "RAW = HOME / 'data/OriginalsAneurysm'\n",
    "\n",
    "AUTO512 = RAW / '512Auto'\n",
    "STL = RAW / 'stls.bk'\n",
    "\n",
    "DATA = HOME / 'data/aneurysm'\n",
    "PATH = DATA\n",
    "\n",
    "CT_DCM = DATA / 'ct-512'\n",
    "MASK_DCM = DATA / 'mask-512'\n",
    "\n",
    "CT_DCM =DATA / 'ct-512' \n",
    "\n",
    "CT_NP = DATA / 'ct-512-NP'\n",
    "MASK_NP = DATA / 'mask-512-NP'\n",
    "\n",
    "CT_PNG = DATA / 'ct-512-PNG'\n",
    "MASK_PNG = DATA / 'mask-512-PNG'\n",
    "\n",
    "# CT_128 = DATA / 'train-128'\n",
    "# MASK_128 = DATA / 'train_masks-128'\n",
    "\n",
    "# CT_128_NP = DATA / 'ct-128-NP'\n",
    "# MASK_128_NP = DATA / 'mask-128-NP'\n",
    "\n",
    "TMP = DATA / 'tmp'\n",
    "\n",
    "CT_NP.mkdir(exist_ok=True)\n",
    "MASK_NP.mkdir(exist_ok=True)\n",
    "\n",
    "CT_PNG.mkdir(exist_ok=True)\n",
    "MASK_PNG.mkdir(exist_ok=True)\n"
   ]
  },
  {
   "cell_type": "code",
   "execution_count": 3,
   "metadata": {
    "ExecuteTime": {
     "end_time": "2018-07-05T09:54:23.644833Z",
     "start_time": "2018-07-05T09:54:23.609380Z"
    }
   },
   "outputs": [],
   "source": [
    "def dicom_shape(path):\n",
    "    name = path.stem\n",
    "    pixel_array = dcm.read_file(str(path)).pixel_array\n",
    "    return name,np.shape(pixel_array),pixel_array\n",
    "\n",
    "def first_nonempty_slice_index(tensor):\n",
    "    last = np.shape(tensor)[0]\n",
    "    for i in range(0,last):\n",
    "        max_val = np.max(tensor[i])\n",
    "        if max_val > 0:\n",
    "            return i\n",
    "        \n",
    "def last_nonempty_slice_index(tensor):\n",
    "    last = np.shape(tensor)[0]\n",
    "    for i in range(0,last)[::-1]:\n",
    "        max_val = np.max(tensor[i])\n",
    "        if max_val > 0:\n",
    "            return i\n",
    "\n",
    "def clean_mask(pixel_array):\n",
    "    pixel_array[pixel_array > 0] = 255\n",
    "    pixel_array = pixel_array.astype(np.uint8)\n",
    "    return Image.fromarray(pixel_array)\n",
    "\n",
    "def mask_dcm_to_png(path,target_dir,size=False):\n",
    "    name = path.stem\n",
    "    pixel_array = dcm.read_file(str(path)).pixel_array[:-2] # remove the last to layers\n",
    "    layers = np.shape(pixel_array)[0]\n",
    "    if size:\n",
    "        for i in range(layers):\n",
    "            clean_mask(pixel_array[i]).resize(size).save(str(target_dir/f\"{name}_{i}.png\"))\n",
    "    else:\n",
    "        for i in range(layers):\n",
    "            clean_mask(pixel_array[i]).save(str(target_dir/f\"{name}_{i}.png\"))\n",
    "    print(f\"{name}\",end=\", \")\n",
    "    \n",
    "def ct_dcm_to_png(path,target_dir,size=False):\n",
    "    name = path.stem\n",
    "    pixel_array = dcm.read_file(str(path)).pixel_array[:-2] # remove the last to layers\n",
    "    layers = np.shape(pixel_array)[0]\n",
    "    if size:\n",
    "        for i in range(layers):\n",
    "            Image.fromarray(pixel_array[i]).resize(size).save(str(target_dir/f\"{name}_{i}.png\"))\n",
    "    else:\n",
    "        for i in range(layers):\n",
    "            Image.fromarray(pixel_array[i]).save(str(target_dir/f\"{name}_{i}.png\"))\n",
    "    print(f\"{name}\",end=\", \")\n",
    "    "
   ]
  },
  {
   "cell_type": "code",
   "execution_count": 4,
   "metadata": {
    "ExecuteTime": {
     "end_time": "2018-07-05T09:54:27.905821Z",
     "start_time": "2018-07-05T09:54:27.567665Z"
    }
   },
   "outputs": [
    {
     "data": {
      "image/png": "[encoded data removed]",
      "text/plain": [
       "<PIL.Image.Image image mode=L size=512x512 at 0x7FBECAC1C908>"
      ]
     },
     "execution_count": 4,
     "metadata": {},
     "output_type": "execute_result"
    }
   ],
   "source": [
    "pixel_array = dcm.read_file(str(MASK_DCM/\"A013.mask.dcm\")).pixel_array\n",
    "clean_mask(pixel_array[180])"
   ]
  },
  {
   "cell_type": "code",
   "execution_count": 5,
   "metadata": {
    "ExecuteTime": {
     "end_time": "2018-07-05T09:54:31.220526Z",
     "start_time": "2018-07-05T09:54:31.191795Z"
    }
   },
   "outputs": [],
   "source": [
    "# #np.unique(dicom_shape(mask_dcms[0])[2])\n",
    "# mk = dicom_shape(mask_dcms[2])[2]\n",
    "# #mk = pylab.imread(str(MASK_PNG/'A015.mask_180.png'))\n",
    "# #mk = mk[:,:,:3]\n",
    "# print(np.shape(mk))\n",
    "# mk[mk > 0] = 255 # none zero is 255. (Binary classes)\n",
    "# #print(np.unique(mk))\n",
    "# mk = mk.astype(np.uint8)\n",
    "# print(np.shape(mk[180]))\n",
    "# #mk = np.max(mk,axis=2) # Combine all the three channels in one channel\n",
    "# #pylab.imshow(mk,cmap=pylab.cm.bone)\n",
    "# print(np.unique(mk))\n",
    "# Image.fromarray(mk[180],mode='L')\n",
    "# #plt.imshow(mk[180],cmap=pylab.cm.bone)\n",
    "# #pylab.imshow(mk[180],cmap=pylab.cm.bone)\n",
    "# #pylab.imshow(pylab.imread(str(MASK_PNG/'A015.mask_180.png')))"
   ]
  },
  {
   "cell_type": "code",
   "execution_count": 25,
   "metadata": {
    "ExecuteTime": {
     "end_time": "2018-07-05T10:10:15.839002Z",
     "start_time": "2018-07-05T10:09:32.550415Z"
    }
   },
   "outputs": [],
   "source": [
    "train_dcms = np.array(sorted(list(CT_DCM.iterdir())))\n",
    "mask_dcms = np.array(sorted(list(MASK_DCM.iterdir())))\n",
    "ids = [Path(x).stem for x in train_dcms]\n",
    "\n",
    "first_mask = {}\n",
    "last_mask = {}\n",
    "ct_layers = {}\n",
    "mask_layers = {}\n",
    "mask_volume= {}\n",
    "\n",
    "for i in range(len(train_dcms[:])):\n",
    "    name, shape, tensor = dicom_shape(train_dcms[i])\n",
    "    name_, shape_, tensor_ = dicom_shape(mask_dcms[i])\n",
    "    first_mask[name] = first_nonempty_slice_index(tensor_)\n",
    "    last_mask[name] = last_nonempty_slice_index(tensor_)\n",
    "    mask_volume[name] = np.sum(tensor_)\n",
    "    ct_layers[name] = shape[0]\n",
    "    mask_layers[name] = shape_[0]\n",
    "#     print(f\"\"\"{name}: \n",
    "#     First & Last mask indexes: {first_mask[name]},{last_mask[name]}:\n",
    "#     Masks number: {last_mask[name] - first_mask[name]}\n",
    "#     Original: {shape[0]}\n",
    "#     Mask: {shape_[0]}\"\"\")"
   ]
  },
  {
   "cell_type": "code",
   "execution_count": 26,
   "metadata": {
    "ExecuteTime": {
     "end_time": "2018-07-05T10:10:15.875427Z",
     "start_time": "2018-07-05T10:10:15.840754Z"
    },
    "scrolled": true
   },
   "outputs": [
    {
     "data": {
      "text/html": [
       "<div>\n",
       "<style scoped>\n",
       "    .dataframe tbody tr th:only-of-type {\n",
       "        vertical-align: middle;\n",
       "    }\n",
       "\n",
       "    .dataframe tbody tr th {\n",
       "        vertical-align: top;\n",
       "    }\n",
       "\n",
       "    .dataframe thead th {\n",
       "        text-align: right;\n",
       "    }\n",
       "</style>\n",
       "<table border=\"1\" class=\"dataframe\">\n",
       "  <thead>\n",
       "    <tr style=\"text-align: right;\">\n",
       "      <th></th>\n",
       "      <th>id</th>\n",
       "      <th>first_mask</th>\n",
       "      <th>last_mask</th>\n",
       "      <th>masks_number</th>\n",
       "      <th>ct_layers</th>\n",
       "      <th>mask_layers</th>\n",
       "      <th>mask_volume</th>\n",
       "      <th>ct_path</th>\n",
       "      <th>mask_path</th>\n",
       "    </tr>\n",
       "  </thead>\n",
       "  <tbody>\n",
       "    <tr>\n",
       "      <th>51</th>\n",
       "      <td>A098</td>\n",
       "      <td>222</td>\n",
       "      <td>222</td>\n",
       "      <td>0</td>\n",
       "      <td>439</td>\n",
       "      <td>439</td>\n",
       "      <td>44</td>\n",
       "      <td>/home/amer/data/aneurysm/mask-512/A098.mask.dcm</td>\n",
       "      <td>/home/amer/data/aneurysm/ct-512/A098.dcm</td>\n",
       "    </tr>\n",
       "    <tr>\n",
       "      <th>50</th>\n",
       "      <td>A097</td>\n",
       "      <td>222</td>\n",
       "      <td>222</td>\n",
       "      <td>0</td>\n",
       "      <td>439</td>\n",
       "      <td>439</td>\n",
       "      <td>88</td>\n",
       "      <td>/home/amer/data/aneurysm/mask-512/A097.mask.dcm</td>\n",
       "      <td>/home/amer/data/aneurysm/ct-512/A097.dcm</td>\n",
       "    </tr>\n",
       "    <tr>\n",
       "      <th>49</th>\n",
       "      <td>A095</td>\n",
       "      <td>222</td>\n",
       "      <td>222</td>\n",
       "      <td>0</td>\n",
       "      <td>439</td>\n",
       "      <td>439</td>\n",
       "      <td>88</td>\n",
       "      <td>/home/amer/data/aneurysm/mask-512/A095.mask.dcm</td>\n",
       "      <td>/home/amer/data/aneurysm/ct-512/A095.dcm</td>\n",
       "    </tr>\n",
       "    <tr>\n",
       "      <th>65</th>\n",
       "      <td>PA3</td>\n",
       "      <td>222</td>\n",
       "      <td>222</td>\n",
       "      <td>0</td>\n",
       "      <td>878</td>\n",
       "      <td>878</td>\n",
       "      <td>88</td>\n",
       "      <td>/home/amer/data/aneurysm/mask-512/PA3.mask.dcm</td>\n",
       "      <td>/home/amer/data/aneurysm/ct-512/PA3.dcm</td>\n",
       "    </tr>\n",
       "    <tr>\n",
       "      <th>66</th>\n",
       "      <td>PA6</td>\n",
       "      <td>306</td>\n",
       "      <td>306</td>\n",
       "      <td>0</td>\n",
       "      <td>441</td>\n",
       "      <td>441</td>\n",
       "      <td>305</td>\n",
       "      <td>/home/amer/data/aneurysm/mask-512/PA6.mask.dcm</td>\n",
       "      <td>/home/amer/data/aneurysm/ct-512/PA6.dcm</td>\n",
       "    </tr>\n",
       "    <tr>\n",
       "      <th>60</th>\n",
       "      <td>A126</td>\n",
       "      <td>434</td>\n",
       "      <td>435</td>\n",
       "      <td>1</td>\n",
       "      <td>486</td>\n",
       "      <td>486</td>\n",
       "      <td>2048</td>\n",
       "      <td>/home/amer/data/aneurysm/mask-512/A126.mask.dcm</td>\n",
       "      <td>/home/amer/data/aneurysm/ct-512/A126.dcm</td>\n",
       "    </tr>\n",
       "    <tr>\n",
       "      <th>59</th>\n",
       "      <td>A123</td>\n",
       "      <td>454</td>\n",
       "      <td>456</td>\n",
       "      <td>2</td>\n",
       "      <td>493</td>\n",
       "      <td>493</td>\n",
       "      <td>2124</td>\n",
       "      <td>/home/amer/data/aneurysm/mask-512/A123.mask.dcm</td>\n",
       "      <td>/home/amer/data/aneurysm/ct-512/A123.dcm</td>\n",
       "    </tr>\n",
       "    <tr>\n",
       "      <th>64</th>\n",
       "      <td>A137</td>\n",
       "      <td>394</td>\n",
       "      <td>395</td>\n",
       "      <td>1</td>\n",
       "      <td>508</td>\n",
       "      <td>508</td>\n",
       "      <td>4842</td>\n",
       "      <td>/home/amer/data/aneurysm/mask-512/A137.mask.dcm</td>\n",
       "      <td>/home/amer/data/aneurysm/ct-512/A137.dcm</td>\n",
       "    </tr>\n",
       "    <tr>\n",
       "      <th>53</th>\n",
       "      <td>A101</td>\n",
       "      <td>23</td>\n",
       "      <td>52</td>\n",
       "      <td>29</td>\n",
       "      <td>505</td>\n",
       "      <td>505</td>\n",
       "      <td>3531313</td>\n",
       "      <td>/home/amer/data/aneurysm/mask-512/A101.mask.dcm</td>\n",
       "      <td>/home/amer/data/aneurysm/ct-512/A101.dcm</td>\n",
       "    </tr>\n",
       "    <tr>\n",
       "      <th>2</th>\n",
       "      <td>A015</td>\n",
       "      <td>171</td>\n",
       "      <td>216</td>\n",
       "      <td>45</td>\n",
       "      <td>439</td>\n",
       "      <td>439</td>\n",
       "      <td>36823025</td>\n",
       "      <td>/home/amer/data/aneurysm/mask-512/A015.mask.dcm</td>\n",
       "      <td>/home/amer/data/aneurysm/ct-512/A015.dcm</td>\n",
       "    </tr>\n",
       "    <tr>\n",
       "      <th>33</th>\n",
       "      <td>A072</td>\n",
       "      <td>93</td>\n",
       "      <td>170</td>\n",
       "      <td>77</td>\n",
       "      <td>439</td>\n",
       "      <td>439</td>\n",
       "      <td>50478001</td>\n",
       "      <td>/home/amer/data/aneurysm/mask-512/A072.mask.dcm</td>\n",
       "      <td>/home/amer/data/aneurysm/ct-512/A072.dcm</td>\n",
       "    </tr>\n",
       "    <tr>\n",
       "      <th>34</th>\n",
       "      <td>A074</td>\n",
       "      <td>125</td>\n",
       "      <td>220</td>\n",
       "      <td>95</td>\n",
       "      <td>439</td>\n",
       "      <td>439</td>\n",
       "      <td>52097844</td>\n",
       "      <td>/home/amer/data/aneurysm/mask-512/A074.mask.dcm</td>\n",
       "      <td>/home/amer/data/aneurysm/ct-512/A074.dcm</td>\n",
       "    </tr>\n",
       "    <tr>\n",
       "      <th>27</th>\n",
       "      <td>A057</td>\n",
       "      <td>41</td>\n",
       "      <td>179</td>\n",
       "      <td>138</td>\n",
       "      <td>439</td>\n",
       "      <td>439</td>\n",
       "      <td>57018072</td>\n",
       "      <td>/home/amer/data/aneurysm/mask-512/A057.mask.dcm</td>\n",
       "      <td>/home/amer/data/aneurysm/ct-512/A057.dcm</td>\n",
       "    </tr>\n",
       "    <tr>\n",
       "      <th>25</th>\n",
       "      <td>A051</td>\n",
       "      <td>87</td>\n",
       "      <td>193</td>\n",
       "      <td>106</td>\n",
       "      <td>878</td>\n",
       "      <td>878</td>\n",
       "      <td>58050403</td>\n",
       "      <td>/home/amer/data/aneurysm/mask-512/A051.mask.dcm</td>\n",
       "      <td>/home/amer/data/aneurysm/ct-512/A051.dcm</td>\n",
       "    </tr>\n",
       "    <tr>\n",
       "      <th>0</th>\n",
       "      <td>A012</td>\n",
       "      <td>131</td>\n",
       "      <td>216</td>\n",
       "      <td>85</td>\n",
       "      <td>439</td>\n",
       "      <td>439</td>\n",
       "      <td>59701109</td>\n",
       "      <td>/home/amer/data/aneurysm/mask-512/A012.mask.dcm</td>\n",
       "      <td>/home/amer/data/aneurysm/ct-512/A012.dcm</td>\n",
       "    </tr>\n",
       "    <tr>\n",
       "      <th>44</th>\n",
       "      <td>A088</td>\n",
       "      <td>164</td>\n",
       "      <td>281</td>\n",
       "      <td>117</td>\n",
       "      <td>439</td>\n",
       "      <td>439</td>\n",
       "      <td>62162462</td>\n",
       "      <td>/home/amer/data/aneurysm/mask-512/A088.mask.dcm</td>\n",
       "      <td>/home/amer/data/aneurysm/ct-512/A088.dcm</td>\n",
       "    </tr>\n",
       "    <tr>\n",
       "      <th>36</th>\n",
       "      <td>A077</td>\n",
       "      <td>117</td>\n",
       "      <td>227</td>\n",
       "      <td>110</td>\n",
       "      <td>439</td>\n",
       "      <td>439</td>\n",
       "      <td>62850398</td>\n",
       "      <td>/home/amer/data/aneurysm/mask-512/A077.mask.dcm</td>\n",
       "      <td>/home/amer/data/aneurysm/ct-512/A077.dcm</td>\n",
       "    </tr>\n",
       "    <tr>\n",
       "      <th>37</th>\n",
       "      <td>A080</td>\n",
       "      <td>99</td>\n",
       "      <td>205</td>\n",
       "      <td>106</td>\n",
       "      <td>439</td>\n",
       "      <td>439</td>\n",
       "      <td>65714611</td>\n",
       "      <td>/home/amer/data/aneurysm/mask-512/A080.mask.dcm</td>\n",
       "      <td>/home/amer/data/aneurysm/ct-512/A080.dcm</td>\n",
       "    </tr>\n",
       "    <tr>\n",
       "      <th>10</th>\n",
       "      <td>A025</td>\n",
       "      <td>124</td>\n",
       "      <td>236</td>\n",
       "      <td>112</td>\n",
       "      <td>439</td>\n",
       "      <td>439</td>\n",
       "      <td>66787330</td>\n",
       "      <td>/home/amer/data/aneurysm/mask-512/A025.mask.dcm</td>\n",
       "      <td>/home/amer/data/aneurysm/ct-512/A025.dcm</td>\n",
       "    </tr>\n",
       "    <tr>\n",
       "      <th>32</th>\n",
       "      <td>A071</td>\n",
       "      <td>78</td>\n",
       "      <td>178</td>\n",
       "      <td>100</td>\n",
       "      <td>439</td>\n",
       "      <td>439</td>\n",
       "      <td>67456469</td>\n",
       "      <td>/home/amer/data/aneurysm/mask-512/A071.mask.dcm</td>\n",
       "      <td>/home/amer/data/aneurysm/ct-512/A071.dcm</td>\n",
       "    </tr>\n",
       "    <tr>\n",
       "      <th>28</th>\n",
       "      <td>A064</td>\n",
       "      <td>118</td>\n",
       "      <td>236</td>\n",
       "      <td>118</td>\n",
       "      <td>439</td>\n",
       "      <td>439</td>\n",
       "      <td>75443507</td>\n",
       "      <td>/home/amer/data/aneurysm/mask-512/A064.mask.dcm</td>\n",
       "      <td>/home/amer/data/aneurysm/ct-512/A064.dcm</td>\n",
       "    </tr>\n",
       "    <tr>\n",
       "      <th>11</th>\n",
       "      <td>A027</td>\n",
       "      <td>97</td>\n",
       "      <td>168</td>\n",
       "      <td>71</td>\n",
       "      <td>439</td>\n",
       "      <td>439</td>\n",
       "      <td>79809984</td>\n",
       "      <td>/home/amer/data/aneurysm/mask-512/A027.mask.dcm</td>\n",
       "      <td>/home/amer/data/aneurysm/ct-512/A027.dcm</td>\n",
       "    </tr>\n",
       "    <tr>\n",
       "      <th>3</th>\n",
       "      <td>A016</td>\n",
       "      <td>89</td>\n",
       "      <td>265</td>\n",
       "      <td>176</td>\n",
       "      <td>439</td>\n",
       "      <td>439</td>\n",
       "      <td>81744676</td>\n",
       "      <td>/home/amer/data/aneurysm/mask-512/A016.mask.dcm</td>\n",
       "      <td>/home/amer/data/aneurysm/ct-512/A016.dcm</td>\n",
       "    </tr>\n",
       "    <tr>\n",
       "      <th>7</th>\n",
       "      <td>A022</td>\n",
       "      <td>141</td>\n",
       "      <td>216</td>\n",
       "      <td>75</td>\n",
       "      <td>439</td>\n",
       "      <td>439</td>\n",
       "      <td>82723094</td>\n",
       "      <td>/home/amer/data/aneurysm/mask-512/A022.mask.dcm</td>\n",
       "      <td>/home/amer/data/aneurysm/ct-512/A022.dcm</td>\n",
       "    </tr>\n",
       "    <tr>\n",
       "      <th>17</th>\n",
       "      <td>A040</td>\n",
       "      <td>29</td>\n",
       "      <td>157</td>\n",
       "      <td>128</td>\n",
       "      <td>439</td>\n",
       "      <td>439</td>\n",
       "      <td>85830651</td>\n",
       "      <td>/home/amer/data/aneurysm/mask-512/A040.mask.dcm</td>\n",
       "      <td>/home/amer/data/aneurysm/ct-512/A040.dcm</td>\n",
       "    </tr>\n",
       "    <tr>\n",
       "      <th>23</th>\n",
       "      <td>A049</td>\n",
       "      <td>72</td>\n",
       "      <td>203</td>\n",
       "      <td>131</td>\n",
       "      <td>439</td>\n",
       "      <td>439</td>\n",
       "      <td>86213655</td>\n",
       "      <td>/home/amer/data/aneurysm/mask-512/A049.mask.dcm</td>\n",
       "      <td>/home/amer/data/aneurysm/ct-512/A049.dcm</td>\n",
       "    </tr>\n",
       "    <tr>\n",
       "      <th>31</th>\n",
       "      <td>A067</td>\n",
       "      <td>124</td>\n",
       "      <td>233</td>\n",
       "      <td>109</td>\n",
       "      <td>439</td>\n",
       "      <td>439</td>\n",
       "      <td>86395014</td>\n",
       "      <td>/home/amer/data/aneurysm/mask-512/A067.mask.dcm</td>\n",
       "      <td>/home/amer/data/aneurysm/ct-512/A067.dcm</td>\n",
       "    </tr>\n",
       "    <tr>\n",
       "      <th>30</th>\n",
       "      <td>A066</td>\n",
       "      <td>57</td>\n",
       "      <td>174</td>\n",
       "      <td>117</td>\n",
       "      <td>439</td>\n",
       "      <td>439</td>\n",
       "      <td>87236204</td>\n",
       "      <td>/home/amer/data/aneurysm/mask-512/A066.mask.dcm</td>\n",
       "      <td>/home/amer/data/aneurysm/ct-512/A066.dcm</td>\n",
       "    </tr>\n",
       "    <tr>\n",
       "      <th>19</th>\n",
       "      <td>A042</td>\n",
       "      <td>104</td>\n",
       "      <td>230</td>\n",
       "      <td>126</td>\n",
       "      <td>439</td>\n",
       "      <td>439</td>\n",
       "      <td>89828140</td>\n",
       "      <td>/home/amer/data/aneurysm/mask-512/A042.mask.dcm</td>\n",
       "      <td>/home/amer/data/aneurysm/ct-512/A042.dcm</td>\n",
       "    </tr>\n",
       "    <tr>\n",
       "      <th>12</th>\n",
       "      <td>A029</td>\n",
       "      <td>80</td>\n",
       "      <td>186</td>\n",
       "      <td>106</td>\n",
       "      <td>440</td>\n",
       "      <td>440</td>\n",
       "      <td>90815549</td>\n",
       "      <td>/home/amer/data/aneurysm/mask-512/A029.mask.dcm</td>\n",
       "      <td>/home/amer/data/aneurysm/ct-512/A029.dcm</td>\n",
       "    </tr>\n",
       "    <tr>\n",
       "      <th>...</th>\n",
       "      <td>...</td>\n",
       "      <td>...</td>\n",
       "      <td>...</td>\n",
       "      <td>...</td>\n",
       "      <td>...</td>\n",
       "      <td>...</td>\n",
       "      <td>...</td>\n",
       "      <td>...</td>\n",
       "      <td>...</td>\n",
       "    </tr>\n",
       "    <tr>\n",
       "      <th>26</th>\n",
       "      <td>A054</td>\n",
       "      <td>22</td>\n",
       "      <td>204</td>\n",
       "      <td>182</td>\n",
       "      <td>439</td>\n",
       "      <td>439</td>\n",
       "      <td>113332231</td>\n",
       "      <td>/home/amer/data/aneurysm/mask-512/A054.mask.dcm</td>\n",
       "      <td>/home/amer/data/aneurysm/ct-512/A054.dcm</td>\n",
       "    </tr>\n",
       "    <tr>\n",
       "      <th>6</th>\n",
       "      <td>A019</td>\n",
       "      <td>54</td>\n",
       "      <td>170</td>\n",
       "      <td>116</td>\n",
       "      <td>439</td>\n",
       "      <td>439</td>\n",
       "      <td>113898010</td>\n",
       "      <td>/home/amer/data/aneurysm/mask-512/A019.mask.dcm</td>\n",
       "      <td>/home/amer/data/aneurysm/ct-512/A019.dcm</td>\n",
       "    </tr>\n",
       "    <tr>\n",
       "      <th>9</th>\n",
       "      <td>A024</td>\n",
       "      <td>64</td>\n",
       "      <td>170</td>\n",
       "      <td>106</td>\n",
       "      <td>440</td>\n",
       "      <td>440</td>\n",
       "      <td>114272955</td>\n",
       "      <td>/home/amer/data/aneurysm/mask-512/A024.mask.dcm</td>\n",
       "      <td>/home/amer/data/aneurysm/ct-512/A024.dcm</td>\n",
       "    </tr>\n",
       "    <tr>\n",
       "      <th>48</th>\n",
       "      <td>A093</td>\n",
       "      <td>15</td>\n",
       "      <td>208</td>\n",
       "      <td>193</td>\n",
       "      <td>439</td>\n",
       "      <td>439</td>\n",
       "      <td>118297113</td>\n",
       "      <td>/home/amer/data/aneurysm/mask-512/A093.mask.dcm</td>\n",
       "      <td>/home/amer/data/aneurysm/ct-512/A093.dcm</td>\n",
       "    </tr>\n",
       "    <tr>\n",
       "      <th>47</th>\n",
       "      <td>A092</td>\n",
       "      <td>86</td>\n",
       "      <td>289</td>\n",
       "      <td>203</td>\n",
       "      <td>439</td>\n",
       "      <td>439</td>\n",
       "      <td>119149654</td>\n",
       "      <td>/home/amer/data/aneurysm/mask-512/A092.mask.dcm</td>\n",
       "      <td>/home/amer/data/aneurysm/ct-512/A092.dcm</td>\n",
       "    </tr>\n",
       "    <tr>\n",
       "      <th>22</th>\n",
       "      <td>A047</td>\n",
       "      <td>69</td>\n",
       "      <td>198</td>\n",
       "      <td>129</td>\n",
       "      <td>439</td>\n",
       "      <td>439</td>\n",
       "      <td>120947688</td>\n",
       "      <td>/home/amer/data/aneurysm/mask-512/A047.mask.dcm</td>\n",
       "      <td>/home/amer/data/aneurysm/ct-512/A047.dcm</td>\n",
       "    </tr>\n",
       "    <tr>\n",
       "      <th>54</th>\n",
       "      <td>A103</td>\n",
       "      <td>58</td>\n",
       "      <td>225</td>\n",
       "      <td>167</td>\n",
       "      <td>439</td>\n",
       "      <td>439</td>\n",
       "      <td>124390788</td>\n",
       "      <td>/home/amer/data/aneurysm/mask-512/A103.mask.dcm</td>\n",
       "      <td>/home/amer/data/aneurysm/ct-512/A103.dcm</td>\n",
       "    </tr>\n",
       "    <tr>\n",
       "      <th>52</th>\n",
       "      <td>A100</td>\n",
       "      <td>20</td>\n",
       "      <td>220</td>\n",
       "      <td>200</td>\n",
       "      <td>439</td>\n",
       "      <td>439</td>\n",
       "      <td>125518002</td>\n",
       "      <td>/home/amer/data/aneurysm/mask-512/A100.mask.dcm</td>\n",
       "      <td>/home/amer/data/aneurysm/ct-512/A100.dcm</td>\n",
       "    </tr>\n",
       "    <tr>\n",
       "      <th>46</th>\n",
       "      <td>A091</td>\n",
       "      <td>97</td>\n",
       "      <td>250</td>\n",
       "      <td>153</td>\n",
       "      <td>439</td>\n",
       "      <td>439</td>\n",
       "      <td>132233516</td>\n",
       "      <td>/home/amer/data/aneurysm/mask-512/A091.mask.dcm</td>\n",
       "      <td>/home/amer/data/aneurysm/ct-512/A091.dcm</td>\n",
       "    </tr>\n",
       "    <tr>\n",
       "      <th>35</th>\n",
       "      <td>A075</td>\n",
       "      <td>10</td>\n",
       "      <td>229</td>\n",
       "      <td>219</td>\n",
       "      <td>878</td>\n",
       "      <td>878</td>\n",
       "      <td>138230902</td>\n",
       "      <td>/home/amer/data/aneurysm/mask-512/A075.mask.dcm</td>\n",
       "      <td>/home/amer/data/aneurysm/ct-512/A075.dcm</td>\n",
       "    </tr>\n",
       "    <tr>\n",
       "      <th>4</th>\n",
       "      <td>A017</td>\n",
       "      <td>11</td>\n",
       "      <td>185</td>\n",
       "      <td>174</td>\n",
       "      <td>878</td>\n",
       "      <td>878</td>\n",
       "      <td>138818681</td>\n",
       "      <td>/home/amer/data/aneurysm/mask-512/A017.mask.dcm</td>\n",
       "      <td>/home/amer/data/aneurysm/ct-512/A017.dcm</td>\n",
       "    </tr>\n",
       "    <tr>\n",
       "      <th>14</th>\n",
       "      <td>A032</td>\n",
       "      <td>8</td>\n",
       "      <td>270</td>\n",
       "      <td>262</td>\n",
       "      <td>439</td>\n",
       "      <td>439</td>\n",
       "      <td>139860371</td>\n",
       "      <td>/home/amer/data/aneurysm/mask-512/A032.mask.dcm</td>\n",
       "      <td>/home/amer/data/aneurysm/ct-512/A032.dcm</td>\n",
       "    </tr>\n",
       "    <tr>\n",
       "      <th>15</th>\n",
       "      <td>A033</td>\n",
       "      <td>149</td>\n",
       "      <td>275</td>\n",
       "      <td>126</td>\n",
       "      <td>439</td>\n",
       "      <td>439</td>\n",
       "      <td>139962388</td>\n",
       "      <td>/home/amer/data/aneurysm/mask-512/A033.mask.dcm</td>\n",
       "      <td>/home/amer/data/aneurysm/ct-512/A033.dcm</td>\n",
       "    </tr>\n",
       "    <tr>\n",
       "      <th>1</th>\n",
       "      <td>A013</td>\n",
       "      <td>5</td>\n",
       "      <td>213</td>\n",
       "      <td>208</td>\n",
       "      <td>439</td>\n",
       "      <td>439</td>\n",
       "      <td>153264887</td>\n",
       "      <td>/home/amer/data/aneurysm/mask-512/A013.mask.dcm</td>\n",
       "      <td>/home/amer/data/aneurysm/ct-512/A013.dcm</td>\n",
       "    </tr>\n",
       "    <tr>\n",
       "      <th>24</th>\n",
       "      <td>A050</td>\n",
       "      <td>70</td>\n",
       "      <td>211</td>\n",
       "      <td>141</td>\n",
       "      <td>439</td>\n",
       "      <td>439</td>\n",
       "      <td>158287736</td>\n",
       "      <td>/home/amer/data/aneurysm/mask-512/A050.mask.dcm</td>\n",
       "      <td>/home/amer/data/aneurysm/ct-512/A050.dcm</td>\n",
       "    </tr>\n",
       "    <tr>\n",
       "      <th>41</th>\n",
       "      <td>A084</td>\n",
       "      <td>92</td>\n",
       "      <td>237</td>\n",
       "      <td>145</td>\n",
       "      <td>455</td>\n",
       "      <td>455</td>\n",
       "      <td>165866525</td>\n",
       "      <td>/home/amer/data/aneurysm/mask-512/A084.mask.dcm</td>\n",
       "      <td>/home/amer/data/aneurysm/ct-512/A084.dcm</td>\n",
       "    </tr>\n",
       "    <tr>\n",
       "      <th>42</th>\n",
       "      <td>A086</td>\n",
       "      <td>20</td>\n",
       "      <td>210</td>\n",
       "      <td>190</td>\n",
       "      <td>439</td>\n",
       "      <td>439</td>\n",
       "      <td>182052556</td>\n",
       "      <td>/home/amer/data/aneurysm/mask-512/A086.mask.dcm</td>\n",
       "      <td>/home/amer/data/aneurysm/ct-512/A086.dcm</td>\n",
       "    </tr>\n",
       "    <tr>\n",
       "      <th>20</th>\n",
       "      <td>A043</td>\n",
       "      <td>66</td>\n",
       "      <td>205</td>\n",
       "      <td>139</td>\n",
       "      <td>455</td>\n",
       "      <td>455</td>\n",
       "      <td>193228243</td>\n",
       "      <td>/home/amer/data/aneurysm/mask-512/A043.mask.dcm</td>\n",
       "      <td>/home/amer/data/aneurysm/ct-512/A043.dcm</td>\n",
       "    </tr>\n",
       "    <tr>\n",
       "      <th>39</th>\n",
       "      <td>A082</td>\n",
       "      <td>8</td>\n",
       "      <td>145</td>\n",
       "      <td>137</td>\n",
       "      <td>439</td>\n",
       "      <td>439</td>\n",
       "      <td>197000689</td>\n",
       "      <td>/home/amer/data/aneurysm/mask-512/A082.mask.dcm</td>\n",
       "      <td>/home/amer/data/aneurysm/ct-512/A082.dcm</td>\n",
       "    </tr>\n",
       "    <tr>\n",
       "      <th>18</th>\n",
       "      <td>A041</td>\n",
       "      <td>1</td>\n",
       "      <td>149</td>\n",
       "      <td>148</td>\n",
       "      <td>439</td>\n",
       "      <td>439</td>\n",
       "      <td>199215493</td>\n",
       "      <td>/home/amer/data/aneurysm/mask-512/A041.mask.dcm</td>\n",
       "      <td>/home/amer/data/aneurysm/ct-512/A041.dcm</td>\n",
       "    </tr>\n",
       "    <tr>\n",
       "      <th>16</th>\n",
       "      <td>A036</td>\n",
       "      <td>5</td>\n",
       "      <td>163</td>\n",
       "      <td>158</td>\n",
       "      <td>455</td>\n",
       "      <td>455</td>\n",
       "      <td>205402072</td>\n",
       "      <td>/home/amer/data/aneurysm/mask-512/A036.mask.dcm</td>\n",
       "      <td>/home/amer/data/aneurysm/ct-512/A036.dcm</td>\n",
       "    </tr>\n",
       "    <tr>\n",
       "      <th>5</th>\n",
       "      <td>A018</td>\n",
       "      <td>8</td>\n",
       "      <td>257</td>\n",
       "      <td>249</td>\n",
       "      <td>455</td>\n",
       "      <td>455</td>\n",
       "      <td>206398897</td>\n",
       "      <td>/home/amer/data/aneurysm/mask-512/A018.mask.dcm</td>\n",
       "      <td>/home/amer/data/aneurysm/ct-512/A018.dcm</td>\n",
       "    </tr>\n",
       "    <tr>\n",
       "      <th>55</th>\n",
       "      <td>A107</td>\n",
       "      <td>10</td>\n",
       "      <td>203</td>\n",
       "      <td>193</td>\n",
       "      <td>439</td>\n",
       "      <td>439</td>\n",
       "      <td>207591366</td>\n",
       "      <td>/home/amer/data/aneurysm/mask-512/A107.mask.dcm</td>\n",
       "      <td>/home/amer/data/aneurysm/ct-512/A107.dcm</td>\n",
       "    </tr>\n",
       "    <tr>\n",
       "      <th>29</th>\n",
       "      <td>A065</td>\n",
       "      <td>38</td>\n",
       "      <td>308</td>\n",
       "      <td>270</td>\n",
       "      <td>878</td>\n",
       "      <td>878</td>\n",
       "      <td>285668484</td>\n",
       "      <td>/home/amer/data/aneurysm/mask-512/A065.mask.dcm</td>\n",
       "      <td>/home/amer/data/aneurysm/ct-512/A065.dcm</td>\n",
       "    </tr>\n",
       "    <tr>\n",
       "      <th>13</th>\n",
       "      <td>A031</td>\n",
       "      <td>12</td>\n",
       "      <td>259</td>\n",
       "      <td>247</td>\n",
       "      <td>439</td>\n",
       "      <td>439</td>\n",
       "      <td>289240309</td>\n",
       "      <td>/home/amer/data/aneurysm/mask-512/A031.mask.dcm</td>\n",
       "      <td>/home/amer/data/aneurysm/ct-512/A031.dcm</td>\n",
       "    </tr>\n",
       "    <tr>\n",
       "      <th>62</th>\n",
       "      <td>A134</td>\n",
       "      <td>0</td>\n",
       "      <td>449</td>\n",
       "      <td>449</td>\n",
       "      <td>500</td>\n",
       "      <td>500</td>\n",
       "      <td>607970106</td>\n",
       "      <td>/home/amer/data/aneurysm/mask-512/A134.mask.dcm</td>\n",
       "      <td>/home/amer/data/aneurysm/ct-512/A134.dcm</td>\n",
       "    </tr>\n",
       "    <tr>\n",
       "      <th>57</th>\n",
       "      <td>A112</td>\n",
       "      <td>121</td>\n",
       "      <td>454</td>\n",
       "      <td>333</td>\n",
       "      <td>511</td>\n",
       "      <td>511</td>\n",
       "      <td>1007285958</td>\n",
       "      <td>/home/amer/data/aneurysm/mask-512/A112.mask.dcm</td>\n",
       "      <td>/home/amer/data/aneurysm/ct-512/A112.dcm</td>\n",
       "    </tr>\n",
       "    <tr>\n",
       "      <th>58</th>\n",
       "      <td>A115</td>\n",
       "      <td>0</td>\n",
       "      <td>452</td>\n",
       "      <td>452</td>\n",
       "      <td>510</td>\n",
       "      <td>510</td>\n",
       "      <td>1537208319</td>\n",
       "      <td>/home/amer/data/aneurysm/mask-512/A115.mask.dcm</td>\n",
       "      <td>/home/amer/data/aneurysm/ct-512/A115.dcm</td>\n",
       "    </tr>\n",
       "    <tr>\n",
       "      <th>61</th>\n",
       "      <td>A133</td>\n",
       "      <td>0</td>\n",
       "      <td>506</td>\n",
       "      <td>506</td>\n",
       "      <td>507</td>\n",
       "      <td>507</td>\n",
       "      <td>2427762611</td>\n",
       "      <td>/home/amer/data/aneurysm/mask-512/A133.mask.dcm</td>\n",
       "      <td>/home/amer/data/aneurysm/ct-512/A133.dcm</td>\n",
       "    </tr>\n",
       "    <tr>\n",
       "      <th>63</th>\n",
       "      <td>A135</td>\n",
       "      <td>110</td>\n",
       "      <td>488</td>\n",
       "      <td>378</td>\n",
       "      <td>512</td>\n",
       "      <td>512</td>\n",
       "      <td>2835556095</td>\n",
       "      <td>/home/amer/data/aneurysm/mask-512/A135.mask.dcm</td>\n",
       "      <td>/home/amer/data/aneurysm/ct-512/A135.dcm</td>\n",
       "    </tr>\n",
       "  </tbody>\n",
       "</table>\n",
       "<p>67 rows × 9 columns</p>\n",
       "</div>"
      ],
      "text/plain": [
       "      id  first_mask  last_mask  masks_number  ct_layers  mask_layers  \\\n",
       "51  A098         222        222             0        439          439   \n",
       "50  A097         222        222             0        439          439   \n",
       "49  A095         222        222             0        439          439   \n",
       "65   PA3         222        222             0        878          878   \n",
       "66   PA6         306        306             0        441          441   \n",
       "60  A126         434        435             1        486          486   \n",
       "59  A123         454        456             2        493          493   \n",
       "64  A137         394        395             1        508          508   \n",
       "53  A101          23         52            29        505          505   \n",
       "2   A015         171        216            45        439          439   \n",
       "33  A072          93        170            77        439          439   \n",
       "34  A074         125        220            95        439          439   \n",
       "27  A057          41        179           138        439          439   \n",
       "25  A051          87        193           106        878          878   \n",
       "0   A012         131        216            85        439          439   \n",
       "44  A088         164        281           117        439          439   \n",
       "36  A077         117        227           110        439          439   \n",
       "37  A080          99        205           106        439          439   \n",
       "10  A025         124        236           112        439          439   \n",
       "32  A071          78        178           100        439          439   \n",
       "28  A064         118        236           118        439          439   \n",
       "11  A027          97        168            71        439          439   \n",
       "3   A016          89        265           176        439          439   \n",
       "7   A022         141        216            75        439          439   \n",
       "17  A040          29        157           128        439          439   \n",
       "23  A049          72        203           131        439          439   \n",
       "31  A067         124        233           109        439          439   \n",
       "30  A066          57        174           117        439          439   \n",
       "19  A042         104        230           126        439          439   \n",
       "12  A029          80        186           106        440          440   \n",
       "..   ...         ...        ...           ...        ...          ...   \n",
       "26  A054          22        204           182        439          439   \n",
       "6   A019          54        170           116        439          439   \n",
       "9   A024          64        170           106        440          440   \n",
       "48  A093          15        208           193        439          439   \n",
       "47  A092          86        289           203        439          439   \n",
       "22  A047          69        198           129        439          439   \n",
       "54  A103          58        225           167        439          439   \n",
       "52  A100          20        220           200        439          439   \n",
       "46  A091          97        250           153        439          439   \n",
       "35  A075          10        229           219        878          878   \n",
       "4   A017          11        185           174        878          878   \n",
       "14  A032           8        270           262        439          439   \n",
       "15  A033         149        275           126        439          439   \n",
       "1   A013           5        213           208        439          439   \n",
       "24  A050          70        211           141        439          439   \n",
       "41  A084          92        237           145        455          455   \n",
       "42  A086          20        210           190        439          439   \n",
       "20  A043          66        205           139        455          455   \n",
       "39  A082           8        145           137        439          439   \n",
       "18  A041           1        149           148        439          439   \n",
       "16  A036           5        163           158        455          455   \n",
       "5   A018           8        257           249        455          455   \n",
       "55  A107          10        203           193        439          439   \n",
       "29  A065          38        308           270        878          878   \n",
       "13  A031          12        259           247        439          439   \n",
       "62  A134           0        449           449        500          500   \n",
       "57  A112         121        454           333        511          511   \n",
       "58  A115           0        452           452        510          510   \n",
       "61  A133           0        506           506        507          507   \n",
       "63  A135         110        488           378        512          512   \n",
       "\n",
       "    mask_volume                                          ct_path  \\\n",
       "51           44  /home/amer/data/aneurysm/mask-512/A098.mask.dcm   \n",
       "50           88  /home/amer/data/aneurysm/mask-512/A097.mask.dcm   \n",
       "49           88  /home/amer/data/aneurysm/mask-512/A095.mask.dcm   \n",
       "65           88   /home/amer/data/aneurysm/mask-512/PA3.mask.dcm   \n",
       "66          305   /home/amer/data/aneurysm/mask-512/PA6.mask.dcm   \n",
       "60         2048  /home/amer/data/aneurysm/mask-512/A126.mask.dcm   \n",
       "59         2124  /home/amer/data/aneurysm/mask-512/A123.mask.dcm   \n",
       "64         4842  /home/amer/data/aneurysm/mask-512/A137.mask.dcm   \n",
       "53      3531313  /home/amer/data/aneurysm/mask-512/A101.mask.dcm   \n",
       "2      36823025  /home/amer/data/aneurysm/mask-512/A015.mask.dcm   \n",
       "33     50478001  /home/amer/data/aneurysm/mask-512/A072.mask.dcm   \n",
       "34     52097844  /home/amer/data/aneurysm/mask-512/A074.mask.dcm   \n",
       "27     57018072  /home/amer/data/aneurysm/mask-512/A057.mask.dcm   \n",
       "25     58050403  /home/amer/data/aneurysm/mask-512/A051.mask.dcm   \n",
       "0      59701109  /home/amer/data/aneurysm/mask-512/A012.mask.dcm   \n",
       "44     62162462  /home/amer/data/aneurysm/mask-512/A088.mask.dcm   \n",
       "36     62850398  /home/amer/data/aneurysm/mask-512/A077.mask.dcm   \n",
       "37     65714611  /home/amer/data/aneurysm/mask-512/A080.mask.dcm   \n",
       "10     66787330  /home/amer/data/aneurysm/mask-512/A025.mask.dcm   \n",
       "32     67456469  /home/amer/data/aneurysm/mask-512/A071.mask.dcm   \n",
       "28     75443507  /home/amer/data/aneurysm/mask-512/A064.mask.dcm   \n",
       "11     79809984  /home/amer/data/aneurysm/mask-512/A027.mask.dcm   \n",
       "3      81744676  /home/amer/data/aneurysm/mask-512/A016.mask.dcm   \n",
       "7      82723094  /home/amer/data/aneurysm/mask-512/A022.mask.dcm   \n",
       "17     85830651  /home/amer/data/aneurysm/mask-512/A040.mask.dcm   \n",
       "23     86213655  /home/amer/data/aneurysm/mask-512/A049.mask.dcm   \n",
       "31     86395014  /home/amer/data/aneurysm/mask-512/A067.mask.dcm   \n",
       "30     87236204  /home/amer/data/aneurysm/mask-512/A066.mask.dcm   \n",
       "19     89828140  /home/amer/data/aneurysm/mask-512/A042.mask.dcm   \n",
       "12     90815549  /home/amer/data/aneurysm/mask-512/A029.mask.dcm   \n",
       "..          ...                                              ...   \n",
       "26    113332231  /home/amer/data/aneurysm/mask-512/A054.mask.dcm   \n",
       "6     113898010  /home/amer/data/aneurysm/mask-512/A019.mask.dcm   \n",
       "9     114272955  /home/amer/data/aneurysm/mask-512/A024.mask.dcm   \n",
       "48    118297113  /home/amer/data/aneurysm/mask-512/A093.mask.dcm   \n",
       "47    119149654  /home/amer/data/aneurysm/mask-512/A092.mask.dcm   \n",
       "22    120947688  /home/amer/data/aneurysm/mask-512/A047.mask.dcm   \n",
       "54    124390788  /home/amer/data/aneurysm/mask-512/A103.mask.dcm   \n",
       "52    125518002  /home/amer/data/aneurysm/mask-512/A100.mask.dcm   \n",
       "46    132233516  /home/amer/data/aneurysm/mask-512/A091.mask.dcm   \n",
       "35    138230902  /home/amer/data/aneurysm/mask-512/A075.mask.dcm   \n",
       "4     138818681  /home/amer/data/aneurysm/mask-512/A017.mask.dcm   \n",
       "14    139860371  /home/amer/data/aneurysm/mask-512/A032.mask.dcm   \n",
       "15    139962388  /home/amer/data/aneurysm/mask-512/A033.mask.dcm   \n",
       "1     153264887  /home/amer/data/aneurysm/mask-512/A013.mask.dcm   \n",
       "24    158287736  /home/amer/data/aneurysm/mask-512/A050.mask.dcm   \n",
       "41    165866525  /home/amer/data/aneurysm/mask-512/A084.mask.dcm   \n",
       "42    182052556  /home/amer/data/aneurysm/mask-512/A086.mask.dcm   \n",
       "20    193228243  /home/amer/data/aneurysm/mask-512/A043.mask.dcm   \n",
       "39    197000689  /home/amer/data/aneurysm/mask-512/A082.mask.dcm   \n",
       "18    199215493  /home/amer/data/aneurysm/mask-512/A041.mask.dcm   \n",
       "16    205402072  /home/amer/data/aneurysm/mask-512/A036.mask.dcm   \n",
       "5     206398897  /home/amer/data/aneurysm/mask-512/A018.mask.dcm   \n",
       "55    207591366  /home/amer/data/aneurysm/mask-512/A107.mask.dcm   \n",
       "29    285668484  /home/amer/data/aneurysm/mask-512/A065.mask.dcm   \n",
       "13    289240309  /home/amer/data/aneurysm/mask-512/A031.mask.dcm   \n",
       "62    607970106  /home/amer/data/aneurysm/mask-512/A134.mask.dcm   \n",
       "57   1007285958  /home/amer/data/aneurysm/mask-512/A112.mask.dcm   \n",
       "58   1537208319  /home/amer/data/aneurysm/mask-512/A115.mask.dcm   \n",
       "61   2427762611  /home/amer/data/aneurysm/mask-512/A133.mask.dcm   \n",
       "63   2835556095  /home/amer/data/aneurysm/mask-512/A135.mask.dcm   \n",
       "\n",
       "                                   mask_path  \n",
       "51  /home/amer/data/aneurysm/ct-512/A098.dcm  \n",
       "50  /home/amer/data/aneurysm/ct-512/A097.dcm  \n",
       "49  /home/amer/data/aneurysm/ct-512/A095.dcm  \n",
       "65   /home/amer/data/aneurysm/ct-512/PA3.dcm  \n",
       "66   /home/amer/data/aneurysm/ct-512/PA6.dcm  \n",
       "60  /home/amer/data/aneurysm/ct-512/A126.dcm  \n",
       "59  /home/amer/data/aneurysm/ct-512/A123.dcm  \n",
       "64  /home/amer/data/aneurysm/ct-512/A137.dcm  \n",
       "53  /home/amer/data/aneurysm/ct-512/A101.dcm  \n",
       "2   /home/amer/data/aneurysm/ct-512/A015.dcm  \n",
       "33  /home/amer/data/aneurysm/ct-512/A072.dcm  \n",
       "34  /home/amer/data/aneurysm/ct-512/A074.dcm  \n",
       "27  /home/amer/data/aneurysm/ct-512/A057.dcm  \n",
       "25  /home/amer/data/aneurysm/ct-512/A051.dcm  \n",
       "0   /home/amer/data/aneurysm/ct-512/A012.dcm  \n",
       "44  /home/amer/data/aneurysm/ct-512/A088.dcm  \n",
       "36  /home/amer/data/aneurysm/ct-512/A077.dcm  \n",
       "37  /home/amer/data/aneurysm/ct-512/A080.dcm  \n",
       "10  /home/amer/data/aneurysm/ct-512/A025.dcm  \n",
       "32  /home/amer/data/aneurysm/ct-512/A071.dcm  \n",
       "28  /home/amer/data/aneurysm/ct-512/A064.dcm  \n",
       "11  /home/amer/data/aneurysm/ct-512/A027.dcm  \n",
       "3   /home/amer/data/aneurysm/ct-512/A016.dcm  \n",
       "7   /home/amer/data/aneurysm/ct-512/A022.dcm  \n",
       "17  /home/amer/data/aneurysm/ct-512/A040.dcm  \n",
       "23  /home/amer/data/aneurysm/ct-512/A049.dcm  \n",
       "31  /home/amer/data/aneurysm/ct-512/A067.dcm  \n",
       "30  /home/amer/data/aneurysm/ct-512/A066.dcm  \n",
       "19  /home/amer/data/aneurysm/ct-512/A042.dcm  \n",
       "12  /home/amer/data/aneurysm/ct-512/A029.dcm  \n",
       "..                                       ...  \n",
       "26  /home/amer/data/aneurysm/ct-512/A054.dcm  \n",
       "6   /home/amer/data/aneurysm/ct-512/A019.dcm  \n",
       "9   /home/amer/data/aneurysm/ct-512/A024.dcm  \n",
       "48  /home/amer/data/aneurysm/ct-512/A093.dcm  \n",
       "47  /home/amer/data/aneurysm/ct-512/A092.dcm  \n",
       "22  /home/amer/data/aneurysm/ct-512/A047.dcm  \n",
       "54  /home/amer/data/aneurysm/ct-512/A103.dcm  \n",
       "52  /home/amer/data/aneurysm/ct-512/A100.dcm  \n",
       "46  /home/amer/data/aneurysm/ct-512/A091.dcm  \n",
       "35  /home/amer/data/aneurysm/ct-512/A075.dcm  \n",
       "4   /home/amer/data/aneurysm/ct-512/A017.dcm  \n",
       "14  /home/amer/data/aneurysm/ct-512/A032.dcm  \n",
       "15  /home/amer/data/aneurysm/ct-512/A033.dcm  \n",
       "1   /home/amer/data/aneurysm/ct-512/A013.dcm  \n",
       "24  /home/amer/data/aneurysm/ct-512/A050.dcm  \n",
       "41  /home/amer/data/aneurysm/ct-512/A084.dcm  \n",
       "42  /home/amer/data/aneurysm/ct-512/A086.dcm  \n",
       "20  /home/amer/data/aneurysm/ct-512/A043.dcm  \n",
       "39  /home/amer/data/aneurysm/ct-512/A082.dcm  \n",
       "18  /home/amer/data/aneurysm/ct-512/A041.dcm  \n",
       "16  /home/amer/data/aneurysm/ct-512/A036.dcm  \n",
       "5   /home/amer/data/aneurysm/ct-512/A018.dcm  \n",
       "55  /home/amer/data/aneurysm/ct-512/A107.dcm  \n",
       "29  /home/amer/data/aneurysm/ct-512/A065.dcm  \n",
       "13  /home/amer/data/aneurysm/ct-512/A031.dcm  \n",
       "62  /home/amer/data/aneurysm/ct-512/A134.dcm  \n",
       "57  /home/amer/data/aneurysm/ct-512/A112.dcm  \n",
       "58  /home/amer/data/aneurysm/ct-512/A115.dcm  \n",
       "61  /home/amer/data/aneurysm/ct-512/A133.dcm  \n",
       "63  /home/amer/data/aneurysm/ct-512/A135.dcm  \n",
       "\n",
       "[67 rows x 9 columns]"
      ]
     },
     "execution_count": 26,
     "metadata": {},
     "output_type": "execute_result"
    }
   ],
   "source": [
    "metadata = pd.DataFrame({\"id\":ids,\n",
    "                        \"first_mask\": [first_mask[x] for x in ids],\n",
    "                        \"last_mask\": [last_mask[x] for x in ids],\n",
    "                        \"masks_number\": [last_mask[x] - first_mask[x] for x in ids],\n",
    "                        \"ct_layers\": [ct_layers[x] for x in ids],\n",
    "                        \"mask_layers\": [mask_layers[x] for x in ids],\n",
    "                        \"mask_volume\": [mask_volume[x] for x in ids],\n",
    "                        \"ct_path\":mask_dcms,\n",
    "                        \"mask_path\":train_dcms},\n",
    "                       )\n",
    "\n",
    "metadata.sort_values(\"mask_volume\")"
   ]
  },
  {
   "cell_type": "code",
   "execution_count": 11,
   "metadata": {
    "ExecuteTime": {
     "end_time": "2018-07-05T10:02:08.768815Z",
     "start_time": "2018-07-05T10:02:08.738691Z"
    }
   },
   "outputs": [],
   "source": [
    "afterFilter = metadata"
   ]
  },
  {
   "cell_type": "code",
   "execution_count": 12,
   "metadata": {
    "ExecuteTime": {
     "end_time": "2018-07-05T10:02:20.245100Z",
     "start_time": "2018-07-05T10:02:20.217258Z"
    }
   },
   "outputs": [],
   "source": [
    "# !rm -f {TRAIN_512}/*.png\n",
    "# !rm -f {MASK_512}/*.png\n",
    "# !rm -f {TRAIN_128}/*.png\n",
    "# !rm -f {MASK_128}/*.png\n",
    "# !rm -f {TRAIN_128_3C}/*.png\n",
    "# !rm -f {MASK_128_3C}/*.png"
   ]
  },
  {
   "cell_type": "code",
   "execution_count": 13,
   "metadata": {
    "ExecuteTime": {
     "end_time": "2018-07-05T10:02:21.464637Z",
     "start_time": "2018-07-05T10:02:21.434659Z"
    }
   },
   "outputs": [],
   "source": [
    "#!rm  {TMP}/*.npy"
   ]
  },
  {
   "cell_type": "code",
   "execution_count": 14,
   "metadata": {
    "ExecuteTime": {
     "end_time": "2018-07-05T10:02:22.091373Z",
     "start_time": "2018-07-05T10:02:22.052711Z"
    }
   },
   "outputs": [
    {
     "ename": "NameError",
     "evalue": "name 'DIRS' is not defined",
     "output_type": "error",
     "traceback": [
      "\u001b[0;31m-------------------------------------------------\u001b[0m",
      "\u001b[0;31mNameError\u001b[0m       Traceback (most recent call last)",
      "\u001b[0;32m<ipython-input-14-5286fafd2214>\u001b[0m in \u001b[0;36m<module>\u001b[0;34m()\u001b[0m\n\u001b[0;32m----> 1\u001b[0;31m \u001b[0;32mfor\u001b[0m \u001b[0md\u001b[0m \u001b[0;32min\u001b[0m \u001b[0mDIRS\u001b[0m\u001b[0;34m:\u001b[0m\u001b[0;34m\u001b[0m\u001b[0m\n\u001b[0m\u001b[1;32m      2\u001b[0m     \u001b[0mprint\u001b[0m\u001b[0;34m(\u001b[0m\u001b[0md\u001b[0m\u001b[0;34m)\u001b[0m\u001b[0;34m\u001b[0m\u001b[0m\n\u001b[1;32m      3\u001b[0m     \u001b[0mget_ipython\u001b[0m\u001b[0;34m(\u001b[0m\u001b[0;34m)\u001b[0m\u001b[0;34m.\u001b[0m\u001b[0msystem\u001b[0m\u001b[0;34m(\u001b[0m\u001b[0;34m'ls -1 {d} | wc -l'\u001b[0m\u001b[0;34m)\u001b[0m\u001b[0;34m\u001b[0m\u001b[0m\n",
      "\u001b[0;31mNameError\u001b[0m: name 'DIRS' is not defined"
     ]
    }
   ],
   "source": [
    "for d in DIRS:\n",
    "    print(d)\n",
    "    !ls -1 {d} | wc -l"
   ]
  },
  {
   "cell_type": "code",
   "execution_count": 15,
   "metadata": {
    "ExecuteTime": {
     "end_time": "2018-07-05T10:02:23.993551Z",
     "start_time": "2018-07-05T10:02:23.042058Z"
    },
    "scrolled": true
   },
   "outputs": [
    {
     "name": "stdout",
     "output_type": "stream",
     "text": [
      "ls: cannot access '{TRAIN_512}': No such file or directory\n",
      "0\n",
      "ls: cannot access '{MASK_512}': No such file or directory\n",
      "0\n",
      "ls: cannot access '{TRAIN_128}': No such file or directory\n",
      "0\n",
      "ls: cannot access '{MASK_128}': No such file or directory\n",
      "0\n",
      "ls: cannot access '{TRAIN_128_3C}': No such file or directory\n",
      "0\n",
      "ls: cannot access '{MASK_128_3C}': No such file or directory\n",
      "0\n"
     ]
    }
   ],
   "source": [
    "!ls -1 {TRAIN_512} | wc -l\n",
    "!ls -1 {MASK_512} | wc -l\n",
    "!ls -1 {TRAIN_128} | wc -l\n",
    "!ls -1 {MASK_128} | wc -l\n",
    "!ls -1 {TRAIN_128_3C} | wc -l\n",
    "!ls -1 {MASK_128_3C} | wc -l"
   ]
  },
  {
   "cell_type": "code",
   "execution_count": 1042,
   "metadata": {
    "ExecuteTime": {
     "end_time": "2018-06-28T14:54:49.966057Z",
     "start_time": "2018-06-28T14:53:44.431483Z"
    }
   },
   "outputs": [
    {
     "name": "stdout",
     "output_type": "stream",
     "text": [
      "A016, A015, A012, A013, A018, A023, A017, A022, A025, A019, A024, A027, A032, A031, A029, A036, A033, A040, A041, A042, A043, A047, A046, A049, A057, A054, A050, A064, A051, A071, A067, A066, A072, A074, A065, A080, A077, A081, A082, A083, A075, A086, A084, A087, A088, A091, A092, A093, A100, A103, A089, A107, A109, "
     ]
    }
   ],
   "source": [
    "train_dcms = np.array(sorted(list(TRAIN_DCM.iterdir())))\n",
    "with ThreadPoolExecutor(6) as e: e.map(ct_dcm_to_png,train_dcms,repeat(TRAIN_512))"
   ]
  },
  {
   "cell_type": "code",
   "execution_count": 1036,
   "metadata": {
    "ExecuteTime": {
     "end_time": "2018-06-28T14:53:06.014994Z",
     "start_time": "2018-06-28T14:52:42.922491Z"
    }
   },
   "outputs": [
    {
     "name": "stdout",
     "output_type": "stream",
     "text": [
      "A015.mask, A013.mask, A012.mask, A016.mask, A018.mask, A019.mask, A017.mask, A022.mask, A023.mask, A024.mask, A025.mask, A027.mask, A031.mask, A029.mask, A032.mask, A033.mask, A036.mask, A040.mask, A042.mask, A041.mask, A043.mask, A047.mask, A046.mask, A049.mask, A050.mask, A057.mask, A064.mask, A054.mask, A066.mask, A067.mask, A071.mask, A072.mask, A051.mask, A065.mask, A074.mask, A077.mask, A081.mask, A080.mask, A082.mask, A083.mask, A075.mask, A088.mask, A086.mask, A084.mask, A087.mask, A091.mask, A092.mask, A100.mask, A093.mask, A103.mask, A089.mask, A107.mask, A109.mask, "
     ]
    }
   ],
   "source": [
    "mask_dcms = np.array(sorted(list(MASK_DCM.iterdir())))\n",
    "with ThreadPoolExecutor(6) as e: e.map(mask_dcm_to_png,mask_dcms,repeat(MASK_512))"
   ]
  },
  {
   "cell_type": "code",
   "execution_count": 1048,
   "metadata": {
    "ExecuteTime": {
     "end_time": "2018-06-28T15:17:31.687878Z",
     "start_time": "2018-06-28T15:17:10.814134Z"
    }
   },
   "outputs": [
    {
     "name": "stdout",
     "output_type": "stream",
     "text": [
      "A016, A015, A013, A012, A018, A017, A022, A023, A019, A025, A024, A027, A032, A031, A029, A036, A033, A042, A046, A040, A047, A041, A043, A057, A054, A064, A049, A050, A071, A051, A067, A066, A072, A065, A074, A080, A081, A077, A082, A083, A075, A088, A086, A087, A084, A091, A092, A103, A100, A093, A089, A107, A109, "
     ]
    }
   ],
   "source": [
    "train_dcms = np.array(sorted(list(TRAIN_DCM.iterdir())))\n",
    "with ThreadPoolExecutor(6) as e: e.map(ct_dcm_to_png,train_dcms,repeat(TRAIN_128),repeat((128,128)))"
   ]
  },
  {
   "cell_type": "code",
   "execution_count": 1023,
   "metadata": {
    "ExecuteTime": {
     "end_time": "2018-06-28T14:12:59.263699Z",
     "start_time": "2018-06-28T14:12:35.847260Z"
    }
   },
   "outputs": [
    {
     "name": "stdout",
     "output_type": "stream",
     "text": [
      "A015.mask, A016.mask, A012.mask, A013.mask, A018.mask, A017.mask, A022.mask, A024.mask, A023.mask, A019.mask, A025.mask, A027.mask, A033.mask, A029.mask, A032.mask, A036.mask, A031.mask, A040.mask, A047.mask, A046.mask, A042.mask, A041.mask, A043.mask, A049.mask, A064.mask, A057.mask, A050.mask, A054.mask, A051.mask, A065.mask, A071.mask, A067.mask, A066.maskA072.mask, , A074.mask, A080.mask, A081.mask, A077.mask, A082.mask, A075.mask, A083.mask, A087.mask, A088.mask, A086.mask, A084.mask, A091.mask, A092.mask, A103.mask, A089.mask, A100.mask, A093.mask, A107.mask, A109.mask, "
     ]
    }
   ],
   "source": [
    "mask_dcms = np.array(sorted(list(MASK_DCM.iterdir())))\n",
    "with ThreadPoolExecutor(6) as e: e.map(mask_dcm_to_png,mask_dcms,repeat(MASK_128),repeat((128,128)))"
   ]
  },
  {
   "cell_type": "code",
   "execution_count": 986,
   "metadata": {
    "ExecuteTime": {
     "end_time": "2018-06-28T14:00:39.804948Z",
     "start_time": "2018-06-28T14:00:39.715327Z"
    },
    "scrolled": false
   },
   "outputs": [],
   "source": [
    "# Concatenate three (height, width)s into one (height, width, 3).\n",
    "def concat_channels(r, g, b):\n",
    "    #assert r.ndim == 2 and g.ndim == 2 and b.ndim == 2\n",
    "    rgb = (r[..., np.newaxis], g[..., np.newaxis], b[..., np.newaxis])\n",
    "    return np.concatenate(rgb, axis=-1)\n",
    "\n",
    "def ct_dcm_to_png_3c(path,target_dir,size=False):\n",
    "    name = path.stem\n",
    "    layers = dcm.read_file(str(path)).pixel_array\n",
    "\n",
    "    for i in range(len(layers)-2):\n",
    "        img1 = layers[i]\n",
    "        img2 = layers[i+1]\n",
    "        img3 = layers[i+2]\n",
    "        img = concat_channels(img1, img2, img3)\n",
    "        mx, mi = img2.min(), img2.max()\n",
    "        img = np.interp(img, (mx, mi), (0, 255))\n",
    "        img = Image.fromarray(np.uint8(img),'RGB')\n",
    "        if size:\n",
    "            img.resize(size).save(str(target_dir/f\"{name}_{i}.png\"))\n",
    "        else:\n",
    "            img.save(str(target_dir/f\"{name}_{i}.png\"))\n",
    "    print(f\"{name}\",end=\", \")\n",
    "\n",
    "    \n",
    "# train_dcms = np.array(sorted(list(TRAIN_DCM.iterdir())))[9:10]\n",
    "# for im in train_dcms:\n",
    "#     print(im)\n",
    "#     ct_dcm_to_png_3c(im,MASK_128,(128,128))"
   ]
  },
  {
   "cell_type": "code",
   "execution_count": 1003,
   "metadata": {
    "ExecuteTime": {
     "end_time": "2018-06-28T14:05:42.842090Z",
     "start_time": "2018-06-28T14:04:44.190918Z"
    }
   },
   "outputs": [
    {
     "name": "stdout",
     "output_type": "stream",
     "text": [
      "A018, A015, A016, A012, A013, A022, A019, A024, A017, A023, A025, A027, A031, A029, A032, A033, A036, A040, A041, A042, A047, A046, A043, A050, A049, A054, A057, A064, A051, A066, A067, A071, A072, A065, A077, A074, A080, A081, A082, A083, A075, A084, A086, A087, A088, A092, A091, A093, A100, A103, A089, A107, A109, "
     ]
    }
   ],
   "source": [
    "train_dcms = np.array(sorted(list(TRAIN_DCM.iterdir())))\n",
    "with ThreadPoolExecutor(6) as e: e.map(ct_dcm_to_png_3c,train_dcms,repeat(TRAIN_128_3C),repeat((128,128)))"
   ]
  },
  {
   "cell_type": "code",
   "execution_count": null,
   "metadata": {},
   "outputs": [],
   "source": [
    "  \n",
    "            #print(f\"{name}_{i} \",end=\"\")\n",
    "        #np.save(TMP/f\"{name}_{i}\",img)\n",
    "    #depth = np.shape(pixel_array)[0]\n",
    "    #new_depth = (depth - (depth%3))\n",
    "    #layers = pixel_array[:new_depth] \n",
    "    #     img1 = layers[81]\n",
    "#     img2 = layers[82]\n",
    "#     img3 = layers[83]\n",
    "    #         mx, mi = img2.min(), img2.max()  \n",
    "    #img = concat_channels(img1, img2, img3)\n",
    "    #img = np.interp(img, (mx, mi), (0, 1))\n",
    "    #plt.imshow(img2)\n",
    "    \n",
    "    #imp = np.float16(img)\n",
    "#     print(np.unique(img))\n",
    "#     print(np.shape(img))\n",
    "#     img = np.interp(img, (img.min(), img.max()), (0, 1))\n",
    "    #img = np.float128(img)\n",
    "#     print(np.unique(img))\n",
    "    \n",
    "#     #img = np.uint8(img)\n",
    "#     print(np.shape(img))\n",
    "#     img = np.uint8(img)#*255\n",
    "#     print(np.unique(img))\n",
    "    \n",
    "    \n",
    "    \n",
    "    #Image.fromarray(img,mode=\"F\")\n",
    "    \n",
    "#     plt.imshow(Image.fromarray(img))\n",
    "    \n",
    "    \n",
    "    #return Image.fromarray(img)\n",
    "    #m.save('my.png')\n",
    "    #m.show()\n",
    "    #print(np.shape(img1))"
   ]
  },
  {
   "cell_type": "code",
   "execution_count": 27,
   "metadata": {
    "ExecuteTime": {
     "end_time": "2018-07-05T10:10:21.124030Z",
     "start_time": "2018-07-05T10:10:20.274378Z"
    }
   },
   "outputs": [
    {
     "data": {
      "text/plain": [
       "<ErrorbarContainer object of 3 artists>"
      ]
     },
     "execution_count": 27,
     "metadata": {},
     "output_type": "execute_result"
    },
    {
     "data": {
      "image/png": "[encoded data removed]",
      "text/plain": [
       "<Figure size 2520x576 with 1 Axes>"
      ]
     },
     "metadata": {},
     "output_type": "display_data"
    }
   ],
   "source": [
    "plt.figure(figsize=(35,8))\n",
    "plt.errorbar(metadata.id, y=metadata.first_mask, yerr=[metadata.last_mask*0,metadata.last_mask-metadata.first_mask],\n",
    "             linestyle='None', marker='',elinewidth=9)"
   ]
  },
  {
   "cell_type": "code",
   "execution_count": 120,
   "metadata": {
    "ExecuteTime": {
     "end_time": "2018-06-28T00:16:12.212657Z",
     "start_time": "2018-06-28T00:16:11.508286Z"
    },
    "scrolled": false
   },
   "outputs": [
    {
     "data": {
      "text/plain": [
       "<ErrorbarContainer object of 3 artists>"
      ]
     },
     "execution_count": 120,
     "metadata": {},
     "output_type": "execute_result"
    },
    {
     "data": {
      "image/png": "[encoded data removed]",
      "text/plain": [
       "<Figure size 2800x640 with 1 Axes>"
      ]
     },
     "metadata": {},
     "output_type": "display_data"
    }
   ],
   "source": [
    "plt.figure(figsize=(35,8))\n",
    "plt.errorbar(metadata.id, y=metadata.first_mask, yerr=[metadata.last_mask*0,metadata.last_mask-metadata.first_mask],\n",
    "             linestyle='None', marker='',elinewidth=9)"
   ]
  },
  {
   "cell_type": "code",
   "execution_count": 1044,
   "metadata": {
    "ExecuteTime": {
     "end_time": "2018-06-28T15:01:38.054276Z",
     "start_time": "2018-06-28T15:01:37.969815Z"
    }
   },
   "outputs": [],
   "source": [
    "# Move bad Dicom images to a different folder\n",
    "def move_bad_files(files):\n",
    "    for f in files:\n",
    "        cmd = f\"mv {DATA/'ct-512'}/{f}* {DATA/'bad-ct-512'}/\"\n",
    "        print(cmd)\n",
    "        !{cmd}\n",
    "        cmd = f\"mv {DATA/'mask-512'}/{f}* {DATA/'bad-mask-512'}/\"\n",
    "        print(cmd)\n",
    "        !{cmd}\n",
    "\n",
    "BAD_DATA = [\n",
    "    \"A095\",\"A097\",\"A098\",\"A101\",\"A112\",\"A115\",\"A123\",\n",
    "    \"A126\",\"A133\",\"A134\",\"A135\",\"A137\",\"PA3\",\"PA6\",]\n",
    "#move_bad_files(BAD_DATA)"
   ]
  },
  {
   "cell_type": "code",
   "execution_count": 29,
   "metadata": {
    "ExecuteTime": {
     "end_time": "2018-07-05T10:10:48.570787Z",
     "start_time": "2018-07-05T10:10:47.636645Z"
    }
   },
   "outputs": [
    {
     "data": {
      "text/plain": [
       "<BarContainer object of 67 artists>"
      ]
     },
     "execution_count": 29,
     "metadata": {},
     "output_type": "execute_result"
    },
    {
     "data": {
      "image/png": "[encoded data removed]",
      "text/plain": [
       "<Figure size 2880x576 with 1 Axes>"
      ]
     },
     "metadata": {},
     "output_type": "display_data"
    }
   ],
   "source": [
    "plt.figure(figsize=(40,8))\n",
    "plt.bar(metadata.id,metadata.masks_number)"
   ]
  },
  {
   "cell_type": "code",
   "execution_count": 65,
   "metadata": {
    "ExecuteTime": {
     "end_time": "2018-06-27T23:10:03.038066Z",
     "start_time": "2018-06-27T23:10:02.322870Z"
    }
   },
   "outputs": [
    {
     "data": {
      "text/plain": [
       "<BarContainer object of 53 artists>"
      ]
     },
     "execution_count": 65,
     "metadata": {},
     "output_type": "execute_result"
    },
    {
     "data": {
      "image/png": "[encoded data removed]",
      "text/plain": [
       "<Figure size 2880x576 with 1 Axes>"
      ]
     },
     "metadata": {},
     "output_type": "display_data"
    }
   ],
   "source": [
    "plt.figure(figsize=(40,8))\n",
    "plt.bar(metadata.id,metadata.masks_number)"
   ]
  },
  {
   "cell_type": "code",
   "execution_count": null,
   "metadata": {},
   "outputs": [],
   "source": []
  },
  {
   "cell_type": "code",
   "execution_count": null,
   "metadata": {},
   "outputs": [],
   "source": []
  },
  {
   "cell_type": "code",
   "execution_count": 30,
   "metadata": {
    "ExecuteTime": {
     "end_time": "2018-07-05T10:12:13.700153Z",
     "start_time": "2018-07-05T10:12:12.846453Z"
    }
   },
   "outputs": [
    {
     "data": {
      "text/plain": [
       "<BarContainer object of 67 artists>"
      ]
     },
     "execution_count": 30,
     "metadata": {},
     "output_type": "execute_result"
    },
    {
     "data": {
      "image/png": "[encoded data removed]",
      "text/plain": [
       "<Figure size 2880x576 with 1 Axes>"
      ]
     },
     "metadata": {},
     "output_type": "display_data"
    }
   ],
   "source": [
    "plt.figure(figsize=(40,8))\n",
    "plt.bar(metadata.id,metadata.mask_volume)"
   ]
  },
  {
   "cell_type": "code",
   "execution_count": 62,
   "metadata": {
    "ExecuteTime": {
     "end_time": "2018-06-27T23:09:46.440594Z",
     "start_time": "2018-06-27T23:09:45.759337Z"
    }
   },
   "outputs": [
    {
     "data": {
      "text/plain": [
       "<BarContainer object of 53 artists>"
      ]
     },
     "execution_count": 62,
     "metadata": {},
     "output_type": "execute_result"
    },
    {
     "data": {
      "image/png": "[encoded data removed]",
      "text/plain": [
       "<Figure size 2880x576 with 1 Axes>"
      ]
     },
     "metadata": {},
     "output_type": "display_data"
    }
   ],
   "source": [
    "plt.figure(figsize=(40,8))\n",
    "plt.bar(metadata.id,metadata.mask_volume)"
   ]
  },
  {
   "cell_type": "code",
   "execution_count": null,
   "metadata": {},
   "outputs": [],
   "source": []
  },
  {
   "cell_type": "code",
   "execution_count": null,
   "metadata": {},
   "outputs": [],
   "source": []
  },
  {
   "cell_type": "code",
   "execution_count": 31,
   "metadata": {
    "ExecuteTime": {
     "end_time": "2018-07-05T10:12:39.261345Z",
     "start_time": "2018-07-05T10:12:38.407438Z"
    }
   },
   "outputs": [
    {
     "data": {
      "text/plain": [
       "<BarContainer object of 67 artists>"
      ]
     },
     "execution_count": 31,
     "metadata": {},
     "output_type": "execute_result"
    },
    {
     "data": {
      "image/png": "[encoded data removed]",
      "text/plain": [
       "<Figure size 2880x576 with 1 Axes>"
      ]
     },
     "metadata": {},
     "output_type": "display_data"
    }
   ],
   "source": [
    "plt.figure(figsize=(40,8))\n",
    "plt.bar(metadata.id,metadata.ct_layers)"
   ]
  },
  {
   "cell_type": "code",
   "execution_count": 64,
   "metadata": {
    "ExecuteTime": {
     "end_time": "2018-06-27T23:09:55.950584Z",
     "start_time": "2018-06-27T23:09:55.268285Z"
    },
    "scrolled": true
   },
   "outputs": [
    {
     "data": {
      "text/plain": [
       "<BarContainer object of 53 artists>"
      ]
     },
     "execution_count": 64,
     "metadata": {},
     "output_type": "execute_result"
    },
    {
     "data": {
      "image/png": "[encoded data removed]",
      "text/plain": [
       "<Figure size 2880x576 with 1 Axes>"
      ]
     },
     "metadata": {},
     "output_type": "display_data"
    }
   ],
   "source": [
    "plt.figure(figsize=(40,8))\n",
    "plt.bar(metadata.id,metadata.ct_layers)"
   ]
  },
  {
   "cell_type": "code",
   "execution_count": 69,
   "metadata": {
    "ExecuteTime": {
     "end_time": "2018-06-27T23:15:24.451431Z",
     "start_time": "2018-06-27T23:15:24.088245Z"
    }
   },
   "outputs": [
    {
     "data": {
      "text/plain": [
       "<matplotlib.image.AxesImage at 0x7fa026e7b278>"
      ]
     },
     "execution_count": 69,
     "metadata": {},
     "output_type": "execute_result"
    },
    {
     "data": {
      "image/png": "[encoded data removed]",
      "text/plain": [
       "<Figure size 432x288 with 1 Axes>"
      ]
     },
     "metadata": {},
     "output_type": "display_data"
    }
   ],
   "source": [
    "pixel_array = dcm.read_file(str(TRAIN_DCM/\"A013.dcm\")).pixel_array\n",
    "Image.fromarray(pixel_array[180])\n",
    "plt.imshow(pixel_array[180],cmap=pylab.cm.binary_r)"
   ]
  },
  {
   "cell_type": "code",
   "execution_count": 70,
   "metadata": {
    "ExecuteTime": {
     "end_time": "2018-06-27T23:16:06.537456Z",
     "start_time": "2018-06-27T23:16:05.504712Z"
    }
   },
   "outputs": [
    {
     "name": "stdout",
     "output_type": "stream",
     "text": [
      "(512, 512)\n",
      "(128, 128)\n",
      "(512, 512)\n",
      "(128, 128)\n"
     ]
    }
   ],
   "source": [
    "train_512 = np.array(sorted(list(TRAIN_512.iterdir())))\n",
    "train_128 = np.array(sorted(list(TRAIN_128.iterdir())))\n",
    "mask_512 = np.array(sorted(list(MASK_512.iterdir())))\n",
    "mask_128 = np.array(sorted(list(MASK_128.iterdir())))\n",
    "\n",
    "print(np.shape(mpimg.imread(str(train_512[88]))))\n",
    "print(np.shape(mpimg.imread(str(train_128[88]))))\n",
    "print(np.shape(mpimg.imread(str(mask_512[88]))))\n",
    "print(np.shape(mpimg.imread(str(mask_128[88]))))"
   ]
  },
  {
   "cell_type": "code",
   "execution_count": 1054,
   "metadata": {
    "ExecuteTime": {
     "end_time": "2018-06-28T15:18:16.004348Z",
     "start_time": "2018-06-28T15:18:15.717255Z"
    }
   },
   "outputs": [
    {
     "data": {
      "text/plain": [
       "<matplotlib.image.AxesImage at 0x7f9fa05cd4a8>"
      ]
     },
     "execution_count": 1054,
     "metadata": {},
     "output_type": "execute_result"
    },
    {
     "data": {
      "image/png": "[encoded data removed]",
      "text/plain": [
       "<Figure size 800x800 with 2 Axes>"
      ]
     },
     "metadata": {},
     "output_type": "display_data"
    }
   ],
   "source": [
    "idx = 95\n",
    "f = plt.figure(figsize=(10,10))\n",
    "f.add_subplot(1,2, 1)\n",
    "plt.imshow(plt.imread(str(train_128[idx])))\n",
    "f.add_subplot(1,2, 2)\n",
    "plt.imshow(plt.imread(str(mask_128[idx])))"
   ]
  },
  {
   "cell_type": "code",
   "execution_count": 1055,
   "metadata": {
    "ExecuteTime": {
     "end_time": "2018-06-28T15:18:16.702130Z",
     "start_time": "2018-06-28T15:18:16.399739Z"
    }
   },
   "outputs": [
    {
     "data": {
      "text/plain": [
       "<matplotlib.image.AxesImage at 0x7f9fc28b1588>"
      ]
     },
     "execution_count": 1055,
     "metadata": {},
     "output_type": "execute_result"
    },
    {
     "data": {
      "image/png": "[encoded data removed]",
      "text/plain": [
       "<Figure size 800x800 with 2 Axes>"
      ]
     },
     "metadata": {},
     "output_type": "display_data"
    }
   ],
   "source": [
    "idx = 88\n",
    "\n",
    "f = plt.figure(figsize=(10,10))\n",
    "f.add_subplot(1,2, 1)\n",
    "plt.imshow(plt.imread(str(train_512[idx])))\n",
    "f.add_subplot(1,2, 2)\n",
    "plt.imshow(plt.imread(str(mask_512[idx])))"
   ]
  },
  {
   "cell_type": "code",
   "execution_count": 1056,
   "metadata": {
    "ExecuteTime": {
     "end_time": "2018-06-28T15:18:17.417144Z",
     "start_time": "2018-06-28T15:18:17.310940Z"
    }
   },
   "outputs": [
    {
     "name": "stdout",
     "output_type": "stream",
     "text": [
      "(512, 512)\n",
      "[0.      0.00002 0.00003 ... 0.07117 0.07214 0.07242]\n",
      "(512, 512)\n",
      "[0. 1.]\n"
     ]
    }
   ],
   "source": [
    "img = plt.imread(str(train_512[idx]))\n",
    "print(np.shape(img))\n",
    "print(np.unique(img))\n",
    "\n",
    "img = plt.imread(str(mask_512[idx]))\n",
    "print(np.shape(img))\n",
    "print(np.unique(img))"
   ]
  },
  {
   "cell_type": "code",
   "execution_count": null,
   "metadata": {},
   "outputs": [],
   "source": []
  }
 ],
 "metadata": {
  "kernelspec": {
   "display_name": "fast",
   "language": "python",
   "name": "fast"
  },
  "language_info": {
   "codemirror_mode": {
    "name": "ipython",
    "version": 3
   },
   "file_extension": ".py",
   "mimetype": "text/x-python",
   "name": "python",
   "nbconvert_exporter": "python",
   "pygments_lexer": "ipython3",
   "version": "3.6.5"
  }
 },
 "nbformat": 4,
 "nbformat_minor": 2
}
